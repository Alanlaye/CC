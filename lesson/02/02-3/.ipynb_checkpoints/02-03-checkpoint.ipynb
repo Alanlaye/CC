{
 "cells": [
  {
   "cell_type": "markdown",
   "id": "57706732",
   "metadata": {},
   "source": [
    "如何使用RISE这个Jupyter Notebook的扩展，将你的notebook转换成一个基于reveal.js的动态幻灯片"
   ]
  },
  {
   "cell_type": "code",
   "execution_count": null,
   "id": "10fe8545",
   "metadata": {},
   "outputs": [],
   "source": []
  }
 ],
 "metadata": {
  "kernelspec": {
   "display_name": "Python 3 (ipykernel)",
   "language": "python",
   "name": "python3"
  },
  "language_info": {
   "codemirror_mode": {
    "name": "ipython",
    "version": 3
   },
   "file_extension": ".py",
   "mimetype": "text/x-python",
   "name": "python",
   "nbconvert_exporter": "python",
   "pygments_lexer": "ipython3",
   "version": "3.9.16"
  }
 },
 "nbformat": 4,
 "nbformat_minor": 5
}
