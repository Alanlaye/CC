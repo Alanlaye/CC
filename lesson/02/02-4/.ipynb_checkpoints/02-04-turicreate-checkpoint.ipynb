{
 "cells": [
  {
   "cell_type": "markdown",
   "id": "a1624782",
   "metadata": {},
   "source": [
    "# 1.Turi Create"
   ]
  },
  {
   "cell_type": "markdown",
   "id": "b5b3105f",
   "metadata": {},
   "source": [
    "分类器\n",
    "回归\n",
    "图表分析\n",
    "聚类\n",
    "最近的邻居\n",
    "主题模型"
   ]
  },
  {
   "cell_type": "markdown",
   "id": "a17ea294",
   "metadata": {},
   "source": [
    "# 2.Tabular Data--SFrame"
   ]
  },
  {
   "cell_type": "markdown",
   "id": "33ccde08",
   "metadata": {},
   "source": [
    "## 2.1 loading and saving"
   ]
  },
  {
   "cell_type": "markdown",
   "id": "fae29566",
   "metadata": {},
   "source": [
    "可使用的文件格式：\n",
    "\n",
    "·CSV\n",
    "\n",
    "·JSON\n",
    "\n",
    "·SQL databases"
   ]
  },
  {
   "cell_type": "markdown",
   "id": "3a1596d0",
   "metadata": {},
   "source": [
    "### 2.1.1 csv"
   ]
  },
  {
   "cell_type": "code",
   "execution_count": 3,
   "id": "5cbbc4f0",
   "metadata": {},
   "outputs": [
    {
     "name": "stdout",
     "output_type": "stream",
     "text": [
      "Collecting turicreateNote: you may need to restart the kernel to use updated packages.\n",
      "\n",
      "  Downloading turicreate-6.4.tar.gz (1.9 kB)\n",
      "  Preparing metadata (setup.py): started\n",
      "  Preparing metadata (setup.py): finished with status 'done'\n",
      "Building wheels for collected packages: turicreate\n",
      "  Building wheel for turicreate (setup.py): started\n",
      "  Building wheel for turicreate (setup.py): finished with status 'error'\n",
      "  Running setup.py clean for turicreate\n",
      "Failed to build turicreate\n",
      "Installing collected packages: turicreate\n",
      "  Running setup.py install for turicreate: started\n",
      "  Running setup.py install for turicreate: finished with status 'error'\n"
     ]
    },
    {
     "name": "stderr",
     "output_type": "stream",
     "text": [
      "  error: subprocess-exited-with-error\n",
      "  \n",
      "  python setup.py bdist_wheel did not run successfully.\n",
      "  exit code: 1\n",
      "  \n",
      "  [33 lines of output]\n",
      "  running bdist_wheel\n",
      "  running build\n",
      "  D:\\anaconda\\envs\\cc2\\lib\\site-packages\\setuptools\\command\\install.py:34: SetuptoolsDeprecationWarning: setup.py install is deprecated. Use build and pip and other standards-based tools.\n",
      "    warnings.warn(\n",
      "  installing to build\\bdist.win-amd64\\wheel\n",
      "  running install\n",
      "  \n",
      "  \n",
      "  \n",
      "          ==================================================================================\n",
      "          TURICREATE ERROR\n",
      "  \n",
      "          If you see this message, pip install did not find an available binary package\n",
      "          for your system.\n",
      "  \n",
      "          Supported Platforms:\n",
      "              * macOS 10.12+ x86_64.\n",
      "              * Linux x86_64 (including WSL on Windows 10).\n",
      "  \n",
      "          Support Python Versions:\n",
      "              * 2.7\n",
      "              * 3.5\n",
      "              * 3.6\n",
      "              * 3.7\n",
      "              * 3.8\n",
      "  \n",
      "          Another possible cause of this error is an outdated pip version. Try:\n",
      "              `pip install -U pip`\n",
      "  \n",
      "          ==================================================================================\n",
      "  \n",
      "  \n",
      "  \n",
      "  [end of output]\n",
      "  \n",
      "  note: This error originates from a subprocess, and is likely not a problem with pip.\n",
      "  ERROR: Failed building wheel for turicreate\n",
      "  error: subprocess-exited-with-error\n",
      "  \n",
      "  Running setup.py install for turicreate did not run successfully.\n",
      "  exit code: 1\n",
      "  \n",
      "  [30 lines of output]\n",
      "  running install\n",
      "  D:\\anaconda\\envs\\cc2\\lib\\site-packages\\setuptools\\command\\install.py:34: SetuptoolsDeprecationWarning: setup.py install is deprecated. Use build and pip and other standards-based tools.\n",
      "    warnings.warn(\n",
      "  \n",
      "  \n",
      "  \n",
      "          ==================================================================================\n",
      "          TURICREATE ERROR\n",
      "  \n",
      "          If you see this message, pip install did not find an available binary package\n",
      "          for your system.\n",
      "  \n",
      "          Supported Platforms:\n",
      "              * macOS 10.12+ x86_64.\n",
      "              * Linux x86_64 (including WSL on Windows 10).\n",
      "  \n",
      "          Support Python Versions:\n",
      "              * 2.7\n",
      "              * 3.5\n",
      "              * 3.6\n",
      "              * 3.7\n",
      "              * 3.8\n",
      "  \n",
      "          Another possible cause of this error is an outdated pip version. Try:\n",
      "              `pip install -U pip`\n",
      "  \n",
      "          ==================================================================================\n",
      "  \n",
      "  \n",
      "  \n",
      "  [end of output]\n",
      "  \n",
      "  note: This error originates from a subprocess, and is likely not a problem with pip.\n",
      "error: legacy-install-failure\n",
      "\n",
      "Encountered error while trying to install package.\n",
      "\n",
      "turicreate\n",
      "\n",
      "note: This is an issue with the package mentioned above, not pip.\n",
      "hint: See above for output from the failure.\n"
     ]
    }
   ],
   "source": [
    "pip install turicreate"
   ]
  },
  {
   "cell_type": "code",
   "execution_count": 5,
   "id": "0a4b0494",
   "metadata": {},
   "outputs": [
    {
     "name": "stdout",
     "output_type": "stream",
     "text": [
      "Requirement already satisfied: pip in d:\\anaconda\\envs\\cc2\\lib\\site-packages (23.0.1)\n",
      "Collecting pip\n",
      "  Downloading pip-23.1.2-py3-none-any.whl (2.1 MB)\n",
      "     ---------------------------------------- 0.0/2.1 MB ? eta -:--:--\n",
      "     ---------------------------------------- 0.0/2.1 MB ? eta -:--:--\n",
      "     ---------------------------------------- 0.0/2.1 MB ? eta -:--:--\n",
      "     ---------------------------------------- 0.0/2.1 MB ? eta -:--:--\n",
      "     ---------------------------------------- 0.0/2.1 MB ? eta -:--:--\n",
      "     ---------------------------------------- 0.0/2.1 MB ? eta -:--:--\n",
      "     ---------------------------------------- 0.0/2.1 MB ? eta -:--:--\n",
      "      --------------------------------------- 0.0/2.1 MB ? eta -:--:--\n",
      "      --------------------------------------- 0.0/2.1 MB 393.8 kB/s eta 0:00:06\n",
      "      --------------------------------------- 0.0/2.1 MB 393.8 kB/s eta 0:00:06\n",
      "      --------------------------------------- 0.0/2.1 MB 393.8 kB/s eta 0:00:06\n",
      "      --------------------------------------- 0.0/2.1 MB 393.8 kB/s eta 0:00:06\n",
      "      --------------------------------------- 0.0/2.1 MB 393.8 kB/s eta 0:00:06\n",
      "      --------------------------------------- 0.0/2.1 MB 393.8 kB/s eta 0:00:06\n",
      "     - -------------------------------------- 0.1/2.1 MB 196.9 kB/s eta 0:00:11\n",
      "     - -------------------------------------- 0.1/2.1 MB 228.2 kB/s eta 0:00:09\n",
      "     -- ------------------------------------- 0.1/2.1 MB 226.0 kB/s eta 0:00:09\n",
      "     -- ------------------------------------- 0.1/2.1 MB 275.0 kB/s eta 0:00:07\n",
      "     -- ------------------------------------- 0.1/2.1 MB 275.0 kB/s eta 0:00:07\n",
      "     --- ------------------------------------ 0.2/2.1 MB 283.5 kB/s eta 0:00:07\n",
      "     --- ------------------------------------ 0.2/2.1 MB 283.5 kB/s eta 0:00:07\n",
      "     ---- ----------------------------------- 0.2/2.1 MB 320.0 kB/s eta 0:00:06\n",
      "     ---- ----------------------------------- 0.2/2.1 MB 320.0 kB/s eta 0:00:06\n",
      "     ----- ---------------------------------- 0.3/2.1 MB 347.6 kB/s eta 0:00:06\n",
      "     ----- ---------------------------------- 0.3/2.1 MB 347.6 kB/s eta 0:00:06\n",
      "     ------ --------------------------------- 0.3/2.1 MB 381.5 kB/s eta 0:00:05\n",
      "     ------ --------------------------------- 0.3/2.1 MB 373.0 kB/s eta 0:00:05\n",
      "     ------- -------------------------------- 0.4/2.1 MB 388.7 kB/s eta 0:00:05\n",
      "     -------- ------------------------------- 0.4/2.1 MB 426.7 kB/s eta 0:00:04\n",
      "     --------- ------------------------------ 0.5/2.1 MB 486.7 kB/s eta 0:00:04\n",
      "     --------- ------------------------------ 0.5/2.1 MB 486.7 kB/s eta 0:00:04\n",
      "     ----------- ---------------------------- 0.6/2.1 MB 511.6 kB/s eta 0:00:03\n",
      "     ----------- ---------------------------- 0.6/2.1 MB 500.4 kB/s eta 0:00:03\n",
      "     ------------ --------------------------- 0.7/2.1 MB 543.5 kB/s eta 0:00:03\n",
      "     --------------- ------------------------ 0.8/2.1 MB 630.9 kB/s eta 0:00:02\n",
      "     ---------------- ----------------------- 0.9/2.1 MB 647.8 kB/s eta 0:00:02\n",
      "     ------------------ --------------------- 1.0/2.1 MB 685.1 kB/s eta 0:00:02\n",
      "     -------------------- ------------------- 1.1/2.1 MB 758.2 kB/s eta 0:00:02\n",
      "     ---------------------- ----------------- 1.2/2.1 MB 789.3 kB/s eta 0:00:02\n",
      "     ----------------------- ---------------- 1.2/2.1 MB 798.7 kB/s eta 0:00:02\n",
      "     ----------------------- ---------------- 1.2/2.1 MB 798.7 kB/s eta 0:00:02\n",
      "     --------------------------- ------------ 1.4/2.1 MB 871.9 kB/s eta 0:00:01\n",
      "     ---------------------------- ----------- 1.5/2.1 MB 904.8 kB/s eta 0:00:01\n",
      "     ---------------------------- ----------- 1.5/2.1 MB 904.8 kB/s eta 0:00:01\n",
      "     ----------------------------------- ---- 1.8/2.1 MB 1.1 MB/s eta 0:00:01\n",
      "     -------------------------------------- - 2.0/2.1 MB 1.1 MB/s eta 0:00:01\n",
      "     ---------------------------------------  2.1/2.1 MB 1.1 MB/s eta 0:00:01\n",
      "     ---------------------------------------- 2.1/2.1 MB 1.1 MB/s eta 0:00:00\n",
      "Installing collected packages: pip\n",
      "  Attempting uninstall: pip\n",
      "    Found existing installation: pip 23.0.1\n",
      "    Uninstalling pip-23.0.1:\n",
      "      Successfully uninstalled pip-23.0.1\n",
      "Successfully installed pip-23.1.2\n",
      "Note: you may need to restart the kernel to use updated packages.\n"
     ]
    }
   ],
   "source": [
    "pip install -U pip"
   ]
  },
  {
   "cell_type": "markdown",
   "id": "584276d3",
   "metadata": {},
   "source": [
    "##### 导入csv文件"
   ]
  },
  {
   "cell_type": "markdown",
   "id": "feed51bf",
   "metadata": {},
   "source": [
    "import turicreate as tc\n",
    "songs = tc.SFrame.read_csv(\"song.csv\")"
   ]
  },
  {
   "cell_type": "markdown",
   "id": "968ee50a",
   "metadata": {},
   "source": [
    "##### 表格化呈现csv数据"
   ]
  },
  {
   "cell_type": "code",
   "execution_count": null,
   "id": "c4c77361",
   "metadata": {},
   "outputs": [],
   "source": []
  }
 ],
 "metadata": {
  "kernelspec": {
   "display_name": "Python 3 (ipykernel)",
   "language": "python",
   "name": "python3"
  },
  "language_info": {
   "codemirror_mode": {
    "name": "ipython",
    "version": 3
   },
   "file_extension": ".py",
   "mimetype": "text/x-python",
   "name": "python",
   "nbconvert_exporter": "python",
   "pygments_lexer": "ipython3",
   "version": "3.9.16"
  }
 },
 "nbformat": 4,
 "nbformat_minor": 5
}
