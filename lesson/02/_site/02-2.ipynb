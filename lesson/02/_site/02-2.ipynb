{
 "cells": [
  {
   "cell_type": "code",
   "execution_count": 7,
   "id": "8d0d0f14",
   "metadata": {},
   "outputs": [
    {
     "name": "stdout",
     "output_type": "stream",
     "text": [
      "Hello world!\n"
     ]
    }
   ],
   "source": [
    "# 这是一个Python单元格，不需要用%%html魔法命令\n",
    "print(\"Hello world!\")"
   ]
  },
  {
   "cell_type": "code",
   "execution_count": 11,
   "id": "94640df5",
   "metadata": {},
   "outputs": [
    {
     "data": {
      "text/html": [
       "<!-- 这是一个HTML单元格，需要用%%html魔法命令 -->\n",
       "<h1>这是一个标题</h1>\n",
       "<p>这是一个段落</p>\n",
       "<img src=\"izakku.jpg\" alt=\"izakku\" width=\"100\">\n"
      ],
      "text/plain": [
       "<IPython.core.display.HTML object>"
      ]
     },
     "metadata": {},
     "output_type": "display_data"
    }
   ],
   "source": [
    "%%html\n",
    "<!-- 这是一个HTML单元格，需要用%%html魔法命令 -->\n",
    "<h1>这是一个标题</h1>\n",
    "<p>这是一个段落</p>\n",
    "<img src=\"izakku.jpg\" alt=\"izakku\" width=\"100\">"
   ]
  },
  {
   "cell_type": "code",
   "execution_count": 5,
   "id": "a7dd884c",
   "metadata": {},
   "outputs": [
    {
     "name": "stdout",
     "output_type": "stream",
     "text": [
      "Collecting ghp-importNote: you may need to restart the kernel to use updated packages.\n",
      "\n",
      "  Downloading ghp_import-2.1.0-py3-none-any.whl (11 kB)\n",
      "Requirement already satisfied: python-dateutil>=2.8.1 in d:\\anaconda\\envs\\cc2\\lib\\site-packages (from ghp-import) (2.8.2)\n",
      "Requirement already satisfied: six>=1.5 in d:\\anaconda\\envs\\cc2\\lib\\site-packages (from python-dateutil>=2.8.1->ghp-import) (1.16.0)\n",
      "Installing collected packages: ghp-import\n",
      "Successfully installed ghp-import-2.1.0\n"
     ]
    }
   ],
   "source": [
    "pip install ghp-import"
   ]
  },
  {
   "cell_type": "code",
   "execution_count": 1,
   "id": "7e82d899",
   "metadata": {},
   "outputs": [
    {
     "ename": "SyntaxError",
     "evalue": "invalid syntax (1551578316.py, line 1)",
     "output_type": "error",
     "traceback": [
      "\u001b[1;36m  Cell \u001b[1;32mIn[1], line 1\u001b[1;36m\u001b[0m\n\u001b[1;33m    ghp-import -n -p -f _site\u001b[0m\n\u001b[1;37m        ^\u001b[0m\n\u001b[1;31mSyntaxError\u001b[0m\u001b[1;31m:\u001b[0m invalid syntax\n"
     ]
    }
   ],
   "source": [
    "ghp-import -n -p -f _site"
   ]
  },
  {
   "cell_type": "code",
   "execution_count": null,
   "id": "e0c0d876",
   "metadata": {},
   "outputs": [],
   "source": []
  }
 ],
 "metadata": {
  "kernelspec": {
   "display_name": "Python 3 (ipykernel)",
   "language": "python",
   "name": "python3"
  },
  "language_info": {
   "codemirror_mode": {
    "name": "ipython",
    "version": 3
   },
   "file_extension": ".py",
   "mimetype": "text/x-python",
   "name": "python",
   "nbconvert_exporter": "python",
   "pygments_lexer": "ipython3",
   "version": "3.9.16"
  }
 },
 "nbformat": 4,
 "nbformat_minor": 5
}
