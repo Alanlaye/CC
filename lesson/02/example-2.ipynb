{
 "cells": [
  {
   "cell_type": "markdown",
   "id": "0a540412",
   "metadata": {},
   "source": [
    "# 案例：《转角遇到爱》背后的数据"
   ]
  },
  {
   "cell_type": "markdown",
   "id": "c8b739d4",
   "metadata": {},
   "source": [
    "## 技术实现\n",
    "\n",
    "### 数据脱敏\n",
    "《转角遇到爱》中的一大特点就是对文本数据的处理，其中进行了隐私内容脱敏处理。这个过程的主要目标就是，这几种信息合在一起，不让涉及到的相亲男女周围的人察觉到他们是谁。比如，有个人是“市级医院XX主任” ，当时大家觉得已经去敏了，但吕老师就觉得，这条信息和其他信息放在一起，他周围人的可能一下就会认出来所以就又做了一步“医院科主任”这样范围就更模糊了。\n",
    "\n",
    "这就是我们常说的数据脱敏。数据脱敏是指对某些敏感信息通过脱敏规则进行数据的变形，实现敏感隐私数据的可靠保护。在涉及客户安全数据或者一些商业性敏感数据的情况下，在不违反系统规则条件下，对真实数据进行改造并提供测试使用，如身份证号、手机号、卡号、客户号等个人信息都需要进行数据脱敏。这样就可以在开发、测试和其它非生产环境以及外包环境中安全地使用脱敏后的真实数据集。\n",
    "\n",
    "如果大家对数据脱敏的做法感兴趣，或者想了解如何进行数据脱敏处理不妨参考下面的链接。\n",
    "数据脱敏的6种方案_胖大海-CSDN博客_数据脱敏的常用方法：https://blog.csdn.net/u010517268/article/details/112864274\n",
    "\n",
    "### Swiper\n",
    "我们经常在看很多H5的数据新闻时，会看到滑动滚播的效果，这种效果很显然也在《转角遇到爱》中获得了实现。这其实和一款基于JAVA SCRIPT的插件有关。这个小魔法就是Swiper。\n",
    "\n",
    "swiper是一款轻量级的轮播图插件，不仅支持pc端更是为移动端而生，用它可以快速地做出一个轮播图，或者扩展使其做出复杂的轮播效果。Swiper常用于移动端网站的内容触摸滑动。Swiper能实现触屏焦点图、触屏Tab切换、触屏轮播图切换等常用效果。Swiper开源、免费、稳定、使用简单、功能强大，是架构移动终端网站的重要选择！如果想了解如何使用Swiper实现自己想要的效果，可以参考以下的链接。\n",
    "\n",
    "Swiper中文网-轮播图幻灯片js插件,H5页面前端开发：https://swiper.com.cn/\n",
    "\n",
    "## 数据新闻的另一种视角与实现\n",
    "\n",
    "这个作品向我们诠释了数据新闻的另一种可能。这也就迎合了该作品的主创人的初期想法。“数据新闻，不一定要是非常数字化的东西，其实在我们的生活当中有很多可能被我们忽略到，但是放在一起就是一个很有趣的数据点，大家可能会觉得原来这个题可以这样子做，用数据的方法去做。”邹熳云分享道。这其实给我们做数据新闻的时候也提供了另一种思考的路径，什么样的东西可以成为选择数据新闻的选题，又可以怎样做？这些都是再去省思的点。\n",
    "\n"
   ]
  },
  {
   "cell_type": "code",
   "execution_count": 15,
   "id": "d4411240",
   "metadata": {},
   "outputs": [],
   "source": [
    "import pandas as pd\n",
    "import numpy as np\n",
    "import seaborn as sns\n",
    "import pylab as plt\n",
    "\n",
    "plt.rcParams['font.sans-serif'] = ['Microsoft YaHei']  # 用来正常显示中文标签\n",
    "plt.rcParams['axes.unicode_minus'] = False  # 用来正常显示负号, 注意['SimHei']对应这句不行."
   ]
  },
  {
   "cell_type": "code",
   "execution_count": 20,
   "id": "89508d1f",
   "metadata": {},
   "outputs": [
    {
     "name": "stdout",
     "output_type": "stream",
     "text": [
      " 驱动器 D 中的卷是 Data\n",
      " 卷的序列号是 92BF-9CDC\n",
      "\n",
      " D:\\cc\\CC\\lesson\\02 的目录\n",
      "\n",
      "2023/06/05  12:54    <DIR>          .\n",
      "2023/05/30  10:38    <DIR>          ..\n",
      "2023/05/31  00:12    <DIR>          .ipynb_checkpoints\n",
      "2023/05/30  10:38    <DIR>          02-1\n",
      "2023/05/30  12:09    <DIR>          02-2\n",
      "2023/05/30  14:33    <DIR>          02-3\n",
      "2023/05/30  21:21    <DIR>          02-4\n",
      "2023/05/30  21:32    <DIR>          02-5\n",
      "2023/05/31  00:21           203,763 db_new.csv\n",
      "2023/05/31  00:12           277,437 example-1.ipynb\n",
      "2023/06/05  12:54             4,384 example-2.ipynb\n",
      "2023/05/30  22:30           909,860 MPs.expenses.claims.Jul-Dec.2009.xlsx\n",
      "2023/05/30  23:49             5,120 sankey_base.html\n",
      "2023/05/30  23:22            15,263 sankey_mps.html\n",
      "               6 个文件      1,415,827 字节\n",
      "               8 个目录 31,862,820,864 可用字节\n"
     ]
    }
   ],
   "source": [
    "!dir D:\\cc\\CC\\lesson\\02"
   ]
  },
  {
   "cell_type": "code",
   "execution_count": 23,
   "id": "89db4158",
   "metadata": {},
   "outputs": [
    {
     "data": {
      "text/html": [
       "<div>\n",
       "<style scoped>\n",
       "    .dataframe tbody tr th:only-of-type {\n",
       "        vertical-align: middle;\n",
       "    }\n",
       "\n",
       "    .dataframe tbody tr th {\n",
       "        vertical-align: top;\n",
       "    }\n",
       "\n",
       "    .dataframe thead th {\n",
       "        text-align: right;\n",
       "    }\n",
       "</style>\n",
       "<table border=\"1\" class=\"dataframe\">\n",
       "  <thead>\n",
       "    <tr style=\"text-align: right;\">\n",
       "      <th></th>\n",
       "      <th>id</th>\n",
       "      <th>Gender.self</th>\n",
       "      <th>Year.self</th>\n",
       "      <th>Born.self</th>\n",
       "      <th>Hukou.self</th>\n",
       "      <th>Live.self</th>\n",
       "      <th>Marriage.self</th>\n",
       "      <th>Height.self</th>\n",
       "      <th>Weight.self</th>\n",
       "      <th>Looking.self</th>\n",
       "      <th>...</th>\n",
       "      <th>Hobby.wanted</th>\n",
       "      <th>Edu.min.wanted</th>\n",
       "      <th>Edu.min.n.wanted</th>\n",
       "      <th>Job.wanted</th>\n",
       "      <th>Salary.min.wanted</th>\n",
       "      <th>Apt.wanted</th>\n",
       "      <th>Family.wanted</th>\n",
       "      <th>Other.wanted</th>\n",
       "      <th>interesting.wanted</th>\n",
       "      <th>Similar.wanted</th>\n",
       "    </tr>\n",
       "  </thead>\n",
       "  <tbody>\n",
       "    <tr>\n",
       "      <th>0</th>\n",
       "      <td>1</td>\n",
       "      <td>女性</td>\n",
       "      <td>1987</td>\n",
       "      <td>N</td>\n",
       "      <td>N</td>\n",
       "      <td>N</td>\n",
       "      <td>N</td>\n",
       "      <td>1.65</td>\n",
       "      <td>N</td>\n",
       "      <td>皮肤白，大眼睛</td>\n",
       "      <td>...</td>\n",
       "      <td>无不良嗜好</td>\n",
       "      <td>N</td>\n",
       "      <td>N</td>\n",
       "      <td>稳定</td>\n",
       "      <td>N</td>\n",
       "      <td>有婚房</td>\n",
       "      <td>N</td>\n",
       "      <td>81年不考虑。家境较好，有独立婚房。靠近长宁区</td>\n",
       "      <td>81年不考虑</td>\n",
       "      <td>N</td>\n",
       "    </tr>\n",
       "    <tr>\n",
       "      <th>1</th>\n",
       "      <td>2</td>\n",
       "      <td>男性</td>\n",
       "      <td>1983</td>\n",
       "      <td>浙江</td>\n",
       "      <td>有上海户口</td>\n",
       "      <td>N</td>\n",
       "      <td>N</td>\n",
       "      <td>1.83</td>\n",
       "      <td>N</td>\n",
       "      <td>N</td>\n",
       "      <td>...</td>\n",
       "      <td>N</td>\n",
       "      <td>本科</td>\n",
       "      <td>4</td>\n",
       "      <td>N</td>\n",
       "      <td>N</td>\n",
       "      <td>要有婚房</td>\n",
       "      <td>单亲家庭勿扰</td>\n",
       "      <td>89年不要，独生女，家庭条件相当</td>\n",
       "      <td>89年不要</td>\n",
       "      <td>Y</td>\n",
       "    </tr>\n",
       "    <tr>\n",
       "      <th>2</th>\n",
       "      <td>3</td>\n",
       "      <td>男性</td>\n",
       "      <td>1970</td>\n",
       "      <td>上海</td>\n",
       "      <td>有上海户口</td>\n",
       "      <td>N</td>\n",
       "      <td>单身</td>\n",
       "      <td>1.75</td>\n",
       "      <td>N</td>\n",
       "      <td>N</td>\n",
       "      <td>...</td>\n",
       "      <td>N</td>\n",
       "      <td>N</td>\n",
       "      <td>N</td>\n",
       "      <td>白领工作</td>\n",
       "      <td>N</td>\n",
       "      <td>N</td>\n",
       "      <td>N</td>\n",
       "      <td>条件相当</td>\n",
       "      <td>白领工作</td>\n",
       "      <td>Y</td>\n",
       "    </tr>\n",
       "    <tr>\n",
       "      <th>3</th>\n",
       "      <td>4</td>\n",
       "      <td>男性</td>\n",
       "      <td>1983</td>\n",
       "      <td>上海</td>\n",
       "      <td>有上海户口</td>\n",
       "      <td>上海</td>\n",
       "      <td>N</td>\n",
       "      <td>1.8</td>\n",
       "      <td>N</td>\n",
       "      <td>N</td>\n",
       "      <td>...</td>\n",
       "      <td>N</td>\n",
       "      <td>本科</td>\n",
       "      <td>4</td>\n",
       "      <td>稳定工作</td>\n",
       "      <td>N</td>\n",
       "      <td>N</td>\n",
       "      <td>N</td>\n",
       "      <td>N</td>\n",
       "      <td>本分</td>\n",
       "      <td>N</td>\n",
       "    </tr>\n",
       "    <tr>\n",
       "      <th>4</th>\n",
       "      <td>5</td>\n",
       "      <td>女性</td>\n",
       "      <td>1988</td>\n",
       "      <td>上海</td>\n",
       "      <td>有上海户口</td>\n",
       "      <td>上海</td>\n",
       "      <td>N</td>\n",
       "      <td>1.69</td>\n",
       "      <td>N</td>\n",
       "      <td>清纯、秀丽、有气质</td>\n",
       "      <td>...</td>\n",
       "      <td>不抽烟</td>\n",
       "      <td>本科</td>\n",
       "      <td>4</td>\n",
       "      <td>N</td>\n",
       "      <td>N</td>\n",
       "      <td>N</td>\n",
       "      <td>N</td>\n",
       "      <td>条件相当</td>\n",
       "      <td>不抽烟</td>\n",
       "      <td>Y</td>\n",
       "    </tr>\n",
       "  </tbody>\n",
       "</table>\n",
       "<p>5 rows × 43 columns</p>\n",
       "</div>"
      ],
      "text/plain": [
       "   id Gender.self  Year.self Born.self Hukou.self Live.self Marriage.self  \\\n",
       "0   1          女性       1987         N          N         N             N   \n",
       "1   2          男性       1983        浙江      有上海户口         N             N   \n",
       "2   3          男性       1970        上海      有上海户口         N            单身   \n",
       "3   4          男性       1983        上海      有上海户口        上海             N   \n",
       "4   5          女性       1988        上海      有上海户口        上海             N   \n",
       "\n",
       "  Height.self Weight.self Looking.self  ... Hobby.wanted Edu.min.wanted  \\\n",
       "0        1.65           N      皮肤白，大眼睛  ...        无不良嗜好              N   \n",
       "1        1.83           N            N  ...            N             本科   \n",
       "2        1.75           N            N  ...            N              N   \n",
       "3         1.8           N            N  ...            N             本科   \n",
       "4        1.69           N    清纯、秀丽、有气质  ...          不抽烟             本科   \n",
       "\n",
       "  Edu.min.n.wanted Job.wanted Salary.min.wanted Apt.wanted Family.wanted  \\\n",
       "0                N         稳定                 N        有婚房             N   \n",
       "1                4          N                 N       要有婚房        单亲家庭勿扰   \n",
       "2                N       白领工作                 N          N             N   \n",
       "3                4       稳定工作                 N          N             N   \n",
       "4                4          N                 N          N             N   \n",
       "\n",
       "              Other.wanted interesting.wanted Similar.wanted  \n",
       "0  81年不考虑。家境较好，有独立婚房。靠近长宁区             81年不考虑              N  \n",
       "1         89年不要，独生女，家庭条件相当              89年不要              Y  \n",
       "2                     条件相当               白领工作              Y  \n",
       "3                        N                 本分              N  \n",
       "4                     条件相当                不抽烟              Y  \n",
       "\n",
       "[5 rows x 43 columns]"
      ]
     },
     "execution_count": 23,
     "metadata": {},
     "output_type": "execute_result"
    }
   ],
   "source": [
    "df = pd.read_csv('db_new.csv')\n",
    "df.head()"
   ]
  },
  {
   "cell_type": "code",
   "execution_count": 24,
   "id": "0c0a383f",
   "metadata": {},
   "outputs": [],
   "source": [
    "df['Age'] = 2018 - df['Year.self']"
   ]
  },
  {
   "cell_type": "markdown",
   "id": "3de193d2",
   "metadata": {},
   "source": [
    "## 1.直方图"
   ]
  },
  {
   "cell_type": "code",
   "execution_count": 25,
   "id": "a989a636",
   "metadata": {},
   "outputs": [
    {
     "data": {
      "image/png": "[encoded data removed]",
      "text/plain": [
       "<Figure size 800x400 with 1 Axes>"
      ]
     },
     "metadata": {},
     "output_type": "display_data"
    }
   ],
   "source": [
    "plt.figure(figsize =(8, 4), dpi = 100)\n",
    "\n",
    "sns.histplot(\n",
    "    df,\n",
    "    x=\"Age\", hue=\"Gender.self\",\n",
    "    edgecolor=\".3\",\n",
    "    linewidth=.5,\n",
    "    log_scale=True,\n",
    ");"
   ]
  },
  {
   "cell_type": "markdown",
   "id": "71b69366",
   "metadata": {},
   "source": [
    "## 2.小提琴图"
   ]
  },
  {
   "cell_type": "code",
   "execution_count": 26,
   "id": "3d12bedb",
   "metadata": {},
   "outputs": [
    {
     "data": {
      "image/png": "[encoded data removed]",
      "text/plain": [
       "<Figure size 800x400 with 1 Axes>"
      ]
     },
     "metadata": {},
     "output_type": "display_data"
    }
   ],
   "source": [
    "plt.figure(figsize =(8, 4), dpi = 100)\n",
    "sns.violinplot(x=\"Gender.self\", y=\"Age\", data=df);\n",
    "# 使用Seaborn库的violinplot函数绘制小提琴图"
   ]
  },
  {
   "cell_type": "code",
   "execution_count": 31,
   "id": "ee13c28c",
   "metadata": {},
   "outputs": [
    {
     "data": {
      "text/plain": [
       "array(['1.65', '1.83', '1.75', '1.8', '1.69', '1.7', '1.6', '1.74',\n",
       "       '1.72', '1.71', 'N', '1.61', '1.76', '1.59', '1.78', '1.66',\n",
       "       '1.68', '1.57', '1.62', '1.73', '1.63', '1.81', '1.84', '1.58',\n",
       "       '1.64', '1.77', '1.85', '1.67', '1.82', '1.56', '1.55', '1.48',\n",
       "       '1.86', '1.87'], dtype=object)"
      ]
     },
     "execution_count": 31,
     "metadata": {},
     "output_type": "execute_result"
    }
   ],
   "source": [
    "df['Height.self'].unique()"
   ]
  },
  {
   "cell_type": "code",
   "execution_count": 32,
   "id": "906b94ce",
   "metadata": {},
   "outputs": [
    {
     "data": {
      "image/png": "[encoded data removed]",
      "text/plain": [
       "<Figure size 800x400 with 1 Axes>"
      ]
     },
     "metadata": {},
     "output_type": "display_data"
    }
   ],
   "source": [
    "df['Height.self'] = pd.to_numeric(df['Height.self'], errors='coerce') #将N替换为NaN并将列转换为数值类型\n",
    "plt.figure(figsize =(8, 4), dpi = 100)\n",
    "sns.violinplot(x=\"Gender.self\", y=\"Height.self\", data=df);"
   ]
  },
  {
   "cell_type": "markdown",
   "id": "8f81a44d",
   "metadata": {},
   "source": [
    "## 3.查询列表"
   ]
  },
  {
   "cell_type": "code",
   "execution_count": 33,
   "id": "665fe38c",
   "metadata": {},
   "outputs": [
    {
     "data": {
      "text/plain": [
       "array(['N', '有上海户口', '没有上海户口'], dtype=object)"
      ]
     },
     "execution_count": 33,
     "metadata": {},
     "output_type": "execute_result"
    }
   ],
   "source": [
    "df['Hukou.self'].unique() # 返回该列中的唯一值（了解该列中存在哪些不同的值）"
   ]
  },
  {
   "cell_type": "code",
   "execution_count": 34,
   "id": "4abdb3ac",
   "metadata": {},
   "outputs": [
    {
     "data": {
      "text/plain": [
       "Hukou.self\n",
       "有上海户口     421\n",
       "N         409\n",
       "没有上海户口     44\n",
       "Name: count, dtype: int64"
      ]
     },
     "execution_count": 34,
     "metadata": {},
     "output_type": "execute_result"
    }
   ],
   "source": [
    "df['Hukou.self'].value_counts()"
   ]
  },
  {
   "cell_type": "code",
   "execution_count": 42,
   "id": "baa12a45",
   "metadata": {},
   "outputs": [],
   "source": [
    "# Looking.self.dummy可以被视为对Looking.self的一种编码方式，其中非\"N\"的值用1表示，\"N\"的值用0表示\n",
    "df['Looking.self.dummy'] = [1 if i != 'N' else 0 for i in df['Looking.self']]\n",
    "df['Looking.wanted.dummy'] = [1 if i != 'N' else 0 for i in df['Looking.wanted']]\n",
    "df['Personality.self.dummy'] = [1 if i != 'N' else 0 for i in df['Personality.self']]\n",
    "df['Family.self.dummy'] = [1 if i != 'N' else 0 for i in df['Family.self']]\n",
    "df['Hobby.self.dummy'] = [1 if i != 'N' else 0 for i in df['Hobby.self']]\n",
    "df['Other.self.dummy'] = [1 if i != 'N' else 0 for i in df['Other.self']]\n",
    "df['interesting.self.dummy'] = [1 if i != 'N' else 0 for i in df['interesting.self']]\n",
    "df['Hukou.wanted.dummy'] = [1 if i != 'N' else 0 for i in df['Hukou.wanted']]"
   ]
  },
  {
   "cell_type": "code",
   "execution_count": 43,
   "id": "262561ef",
   "metadata": {},
   "outputs": [
    {
     "data": {
      "text/plain": [
       "['id',\n",
       " 'Gender.self',\n",
       " 'Year.self',\n",
       " 'Born.self',\n",
       " 'Hukou.self',\n",
       " 'Live.self',\n",
       " 'Marriage.self',\n",
       " 'Height.self',\n",
       " 'Weight.self',\n",
       " 'Looking.self',\n",
       " 'Personality.self',\n",
       " 'Edu.self',\n",
       " 'Eduno.self',\n",
       " 'top.self',\n",
       " 'Abroad.self',\n",
       " 'Major.self',\n",
       " 'Job.self',\n",
       " 'Salary.self',\n",
       " 'Apt.self',\n",
       " 'Family.self',\n",
       " 'Hobby.self',\n",
       " 'Other.self',\n",
       " 'interesting.self',\n",
       " 'Gender.wanted',\n",
       " 'Year.max.wanted',\n",
       " 'Year.min.wanted',\n",
       " 'Year.text.wanted',\n",
       " 'Hukou.wanted',\n",
       " 'Live.wanted',\n",
       " 'Marriage.wanted',\n",
       " 'Height.min.wanted',\n",
       " 'Looking.wanted',\n",
       " 'Personality.wanted',\n",
       " 'Hobby.wanted',\n",
       " 'Edu.min.wanted',\n",
       " 'Edu.min.n.wanted',\n",
       " 'Job.wanted',\n",
       " 'Salary.min.wanted',\n",
       " 'Apt.wanted',\n",
       " 'Family.wanted',\n",
       " 'Other.wanted',\n",
       " 'interesting.wanted',\n",
       " 'Similar.wanted']"
      ]
     },
     "execution_count": 43,
     "metadata": {},
     "output_type": "execute_result"
    }
   ],
   "source": [
    "['id', 'Gender.self', 'Year.self', 'Born.self', 'Hukou.self',\n",
    "       'Live.self', 'Marriage.self', 'Height.self', 'Weight.self',\n",
    "       'Looking.self', 'Personality.self', 'Edu.self', 'Eduno.self',\n",
    "       'top.self', 'Abroad.self', 'Major.self', 'Job.self', 'Salary.self',\n",
    "       'Apt.self', 'Family.self', 'Hobby.self', 'Other.self',\n",
    "       'interesting.self', 'Gender.wanted', 'Year.max.wanted',\n",
    "       'Year.min.wanted', 'Year.text.wanted', 'Hukou.wanted', 'Live.wanted',\n",
    "       'Marriage.wanted', 'Height.min.wanted', 'Looking.wanted',\n",
    "       'Personality.wanted', 'Hobby.wanted', 'Edu.min.wanted',\n",
    "       'Edu.min.n.wanted', 'Job.wanted', 'Salary.min.wanted', 'Apt.wanted',\n",
    "       'Family.wanted', 'Other.wanted', 'interesting.wanted',\n",
    "       'Similar.wanted']"
   ]
  },
  {
   "cell_type": "markdown",
   "id": "ca8a9adb",
   "metadata": {},
   "source": [
    "## 4.列联表分析"
   ]
  },
  {
   "cell_type": "code",
   "execution_count": 44,
   "id": "36e56dfc",
   "metadata": {},
   "outputs": [
    {
     "data": {
      "text/html": [
       "<div>\n",
       "<style scoped>\n",
       "    .dataframe tbody tr th:only-of-type {\n",
       "        vertical-align: middle;\n",
       "    }\n",
       "\n",
       "    .dataframe tbody tr th {\n",
       "        vertical-align: top;\n",
       "    }\n",
       "\n",
       "    .dataframe thead th {\n",
       "        text-align: right;\n",
       "    }\n",
       "</style>\n",
       "<table border=\"1\" class=\"dataframe\">\n",
       "  <thead>\n",
       "    <tr style=\"text-align: right;\">\n",
       "      <th>Looking.self.dummy</th>\n",
       "      <th>0</th>\n",
       "      <th>1</th>\n",
       "      <th>All</th>\n",
       "    </tr>\n",
       "    <tr>\n",
       "      <th>Gender.self</th>\n",
       "      <th></th>\n",
       "      <th></th>\n",
       "      <th></th>\n",
       "    </tr>\n",
       "  </thead>\n",
       "  <tbody>\n",
       "    <tr>\n",
       "      <th>女性</th>\n",
       "      <td>406</td>\n",
       "      <td>212</td>\n",
       "      <td>618</td>\n",
       "    </tr>\n",
       "    <tr>\n",
       "      <th>男性</th>\n",
       "      <td>222</td>\n",
       "      <td>34</td>\n",
       "      <td>256</td>\n",
       "    </tr>\n",
       "    <tr>\n",
       "      <th>All</th>\n",
       "      <td>628</td>\n",
       "      <td>246</td>\n",
       "      <td>874</td>\n",
       "    </tr>\n",
       "  </tbody>\n",
       "</table>\n",
       "</div>"
      ],
      "text/plain": [
       "Looking.self.dummy    0    1  All\n",
       "Gender.self                      \n",
       "女性                  406  212  618\n",
       "男性                  222   34  256\n",
       "All                 628  246  874"
      ]
     },
     "execution_count": 44,
     "metadata": {},
     "output_type": "execute_result"
    }
   ],
   "source": [
    "pd.crosstab(df['Gender.self'],df['Looking.self.dummy'],margins=True)"
   ]
  },
  {
   "cell_type": "code",
   "execution_count": 45,
   "id": "4f907d2f",
   "metadata": {},
   "outputs": [
    {
     "data": {
      "text/html": [
       "<div>\n",
       "<style scoped>\n",
       "    .dataframe tbody tr th:only-of-type {\n",
       "        vertical-align: middle;\n",
       "    }\n",
       "\n",
       "    .dataframe tbody tr th {\n",
       "        vertical-align: top;\n",
       "    }\n",
       "\n",
       "    .dataframe thead th {\n",
       "        text-align: right;\n",
       "    }\n",
       "</style>\n",
       "<table border=\"1\" class=\"dataframe\">\n",
       "  <thead>\n",
       "    <tr style=\"text-align: right;\">\n",
       "      <th>Looking.self.dummy</th>\n",
       "      <th>0</th>\n",
       "      <th>1</th>\n",
       "    </tr>\n",
       "    <tr>\n",
       "      <th>Gender.self</th>\n",
       "      <th></th>\n",
       "      <th></th>\n",
       "    </tr>\n",
       "  </thead>\n",
       "  <tbody>\n",
       "    <tr>\n",
       "      <th>女性</th>\n",
       "      <td>0.656958</td>\n",
       "      <td>0.343042</td>\n",
       "    </tr>\n",
       "    <tr>\n",
       "      <th>男性</th>\n",
       "      <td>0.867188</td>\n",
       "      <td>0.132812</td>\n",
       "    </tr>\n",
       "    <tr>\n",
       "      <th>All</th>\n",
       "      <td>0.718535</td>\n",
       "      <td>0.281465</td>\n",
       "    </tr>\n",
       "  </tbody>\n",
       "</table>\n",
       "</div>"
      ],
      "text/plain": [
       "Looking.self.dummy         0         1\n",
       "Gender.self                           \n",
       "女性                  0.656958  0.343042\n",
       "男性                  0.867188  0.132812\n",
       "All                 0.718535  0.281465"
      ]
     },
     "execution_count": 45,
     "metadata": {},
     "output_type": "execute_result"
    }
   ],
   "source": [
    "pd.crosstab(df['Gender.self'],df['Looking.self.dummy'],margins=True, normalize='index')\n",
    "# 参数normalize='index'表示对交叉表进行按行标准化。换句话说，它计算了每行中各个单元格的相对频率或比例。"
   ]
  },
  {
   "cell_type": "code",
   "execution_count": 51,
   "id": "23ce92e5",
   "metadata": {},
   "outputs": [
    {
     "name": "stdout",
     "output_type": "stream",
     "text": [
      "[[371, 247], [173, 83]]\n",
      "Test Statistic: 4.070440019813376\n",
      " p-value: 0.04363990497274837\n",
      " Degrees of Freedom: 1\n",
      "\n",
      "[[384.6590389 233.3409611]\n",
      " [159.3409611  96.6590389]]\n"
     ]
    }
   ],
   "source": [
    "import numpy as np\n",
    "from scipy import stats\n",
    "\n",
    "alist = np.array(pd.crosstab(df['Gender.self'],df['Personality.self.dummy'],margins=False)).tolist()\n",
    "print(alist)\n",
    "# 步骤1：pd.crosstab(df['Gender.self'],df['Looking.self.dummy'],margins=False) 计算交叉表\n",
    "# 步骤2：np.array()将返回的交叉表DataFrame转换为NumPy数组\n",
    "# 步骤3：.tolist()将NumPy数组转换回Python列表形式"
   ]
  },
  {
   "cell_type": "code",
   "execution_count": 52,
   "id": "17f43d34",
   "metadata": {},
   "outputs": [
    {
     "name": "stdout",
     "output_type": "stream",
     "text": [
      "Test Statistic: 4.070440019813376\n",
      " p-value: 0.04363990497274837\n",
      " Degrees of Freedom: 1\n",
      "\n",
      "[[384.6590389 233.3409611]\n",
      " [159.3409611  96.6590389]]\n"
     ]
    }
   ],
   "source": [
    "# 卡方检验\n",
    "chi2, p, ddof, expected = stats.chi2_contingency( alist )\n",
    "# 这个函数返回卡方值（chi2）、p值（p）、自由度（ddof）和预期频数（expected）\n",
    "\n",
    "msg = \"Test Statistic: {}\\n p-value: {}\\n Degrees of Freedom: {}\\n\"\n",
    "print( msg.format( chi2, p, ddof ) )\n",
    "print( expected )"
   ]
  },
  {
   "cell_type": "code",
   "execution_count": null,
   "id": "1294bc19",
   "metadata": {},
   "outputs": [],
   "source": []
  }
 ],
 "metadata": {
  "kernelspec": {
   "display_name": "Python 3 (ipykernel)",
   "language": "python",
   "name": "python3"
  },
  "language_info": {
   "codemirror_mode": {
    "name": "ipython",
    "version": 3
   },
   "file_extension": ".py",
   "mimetype": "text/x-python",
   "name": "python",
   "nbconvert_exporter": "python",
   "pygments_lexer": "ipython3",
   "version": "3.9.16"
  }
 },
 "nbformat": 4,
 "nbformat_minor": 5
}
