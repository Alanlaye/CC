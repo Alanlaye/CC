{
 "cells": [
  {
   "cell_type": "code",
   "execution_count": 7,
   "id": "8d0d0f14",
   "metadata": {},
   "outputs": [
    {
     "name": "stdout",
     "output_type": "stream",
     "text": [
      "Hello world!\n"
     ]
    }
   ],
   "source": [
    "# 这是一个Python单元格，不需要用%%html魔法命令\n",
    "print(\"Hello world!\")"
   ]
  },
  {
   "cell_type": "code",
   "execution_count": 11,
   "id": "94640df5",
   "metadata": {},
   "outputs": [
    {
     "data": {
      "text/html": [
       "<!-- 这是一个HTML单元格，需要用%%html魔法命令 -->\n",
       "<h1>这是一个标题</h1>\n",
       "<p>这是一个段落</p>\n",
       "<img src=\"izakku.jpg\" alt=\"izakku\" width=\"100\">\n"
      ],
      "text/plain": [
       "<IPython.core.display.HTML object>"
      ]
     },
     "metadata": {},
     "output_type": "display_data"
    }
   ],
   "source": [
    "%%html\n",
    "<!-- 这是一个HTML单元格，需要用%%html魔法命令 -->\n",
    "<h1>这是一个标题</h1>\n",
    "<p>这是一个段落</p>\n",
    "<img src=\"izakku.jpg\" alt=\"izakku\" width=\"100\">"
   ]
  },
  {
   "cell_type": "markdown",
   "id": "c437df44",
   "metadata": {},
   "source": [
    "# 1.部署GitHub Pages\n",
    "\n",
    "关于GitHub Pages的部署，我已经成功地进行了如下指令：\n",
    "\n",
    "1.pip install ghp-import  \n",
    "\n",
    "2.!jupyter nbconvert --to html 02-2.ipynb \n",
    "（我的本地仓库目录结构是：CC/lesson/02/02-2 其中02-2目录下面有_site，02-2ipynb，izakku.jpg这三个文件，而_site目录下有02-2.html一个文件） \n",
    "\n",
    "3.!ghp-import -n -p -f _site（命令行回复：To github.com:Alanlaye/CC.git 9df5ad8..690e649 gh-pages -> gh-pages）\n",
    "\n",
    "当我试图打开链接https://Alanlaye.github.io/02-2/02-2.html\n",
    "\n",
    "网站返回404：\n",
    "There isn't a GitHub Pages site here.\n",
    "If you're trying to publish one, read the full documentation to learn how to set up GitHub Pages for your repository, organization, or user account.\n",
    "\n",
    "我刚刚看了下我的GitHubCC仓库的gh-pages分支，我发现里面有两个文件：02-2.html, .nojekyll\n",
    "我已经尝试重新用git commit --allow-empty -m \"Trigger rebuild\" git push命令来触发重新构建，也清理过浏览器缓存，但还是404，这是为什么呢？"
   ]
  },
  {
   "cell_type": "code",
   "execution_count": 14,
   "id": "a7dd884c",
   "metadata": {},
   "outputs": [
    {
     "name": "stdout",
     "output_type": "stream",
     "text": [
      "Requirement already satisfied: ghp-import in d:\\anaconda\\envs\\cc2\\lib\\site-packages (2.1.0)Note: you may need to restart the kernel to use updated packages.\n",
      "\n",
      "Requirement already satisfied: python-dateutil>=2.8.1 in d:\\anaconda\\envs\\cc2\\lib\\site-packages (from ghp-import) (2.8.2)\n",
      "Requirement already satisfied: six>=1.5 in d:\\anaconda\\envs\\cc2\\lib\\site-packages (from python-dateutil>=2.8.1->ghp-import) (1.16.0)\n"
     ]
    }
   ],
   "source": [
    "pip install ghp-import"
   ]
  },
  {
   "cell_type": "code",
   "execution_count": 15,
   "id": "5f7f8007",
   "metadata": {},
   "outputs": [
    {
     "name": "stderr",
     "output_type": "stream",
     "text": [
      "[NbConvertApp] Converting notebook 02-2.ipynb to html\n",
      "[NbConvertApp] Writing 624716 bytes to 02-2.html\n"
     ]
    }
   ],
   "source": [
    "!jupyter nbconvert --to html 02-2.ipynb"
   ]
  },
  {
   "cell_type": "code",
   "execution_count": 16,
   "id": "8b369c52",
   "metadata": {
    "scrolled": true
   },
   "outputs": [
    {
     "name": "stderr",
     "output_type": "stream",
     "text": [
      "To github.com:Alanlaye/CC.git\n",
      "   690e649..1abc175  gh-pages -> gh-pages\n"
     ]
    }
   ],
   "source": [
    "!ghp-import -n -p -f _site"
   ]
  },
  {
   "cell_type": "markdown",
   "id": "dc2caa96",
   "metadata": {},
   "source": [
    "# 2.Markdown基本语法"
   ]
  },
  {
   "cell_type": "markdown",
   "id": "e58d42a0",
   "metadata": {},
   "source": [
    "## 2.1popout标签\n",
    "view-cell toolbar-tags"
   ]
  },
  {
   "cell_type": "code",
   "execution_count": 1,
   "id": "3b49940e",
   "metadata": {
    "tags": [
     "popout"
    ]
   },
   "outputs": [
    {
     "name": "stdout",
     "output_type": "stream",
     "text": [
      "Hello world!\n"
     ]
    }
   ],
   "source": [
    "# This is a popout cell\n",
    "print(\"Hello world!\")\n"
   ]
  },
  {
   "cell_type": "markdown",
   "id": "2ef00e6b",
   "metadata": {},
   "source": [
    "## 2.2 超链接\n",
    "[南京大学](http://www.fdu.edu.cn)是一个*非常棒*的大学！"
   ]
  },
  {
   "cell_type": "markdown",
   "id": "b8ecb46f",
   "metadata": {},
   "source": [
    "## 2.3 特殊表情\n",
    "直接输入：\n",
    "∫ ∑ ※ ➕➖✖️➗ ❎ √ ×\n",
    "\n",
    "😪😠😡😎☺️😁📚🌲\n",
    "\n",
    "👌👍👎👂👃👀✋❌💰🌂\n",
    "\n",
    "0️⃣1️⃣2️⃣3️⃣4️⃣5️⃣6️⃣7️⃣8️⃣9️⃣②🔟\n",
    "\n",
    "🐶🐱🐔🐷🐖🐴🐎🐂🐑🐯🐧🐺🐒🐵🐻🐦🐲\n",
    "\n",
    "💻 🌈🌎☁️❄️🏃♀👩👱✨\n",
    "\n",
    "🆚🔥🌹✈️🌉🎄\n",
    "\n",
    "(✿◡‿◡)害羞 ⁄(⁄ ⁄•⁄ω⁄•⁄ ⁄)⁄ d=====(￣▽￣*)b厉害\n",
    "\n",
    "我是我，不一样花火。～(￣▽￣～)(～￣▽￣)～ 矜持"
   ]
  },
  {
   "cell_type": "markdown",
   "id": "23b11e93",
   "metadata": {},
   "source": [
    "## 2.4LaTeX语法\n",
    "在线工具：https://www.codecogs.com/latex/eqneditor.php \n",
    "\n",
    "上标和下标：用表示上标，用_表示下标，比如x2表示x的平方，a_1表示a的下标为1。如果上标或下标有多个字符，需要用花括号{}把它们括起来，比如x^{n+1}表示x的n+1次方。\n",
    "分数和根号：用\\frac{}{}表示分数，比如\\frac{1}{2}表示一半，用\\sqrt{}表示根号，比如\\sqrt{2}表示根号2。如果要表示开n次方，可以在\\sqrt后面加上[n]，比如\\sqrt3{8}表示开三次方的8。\n",
    "希腊字母和符号：用反斜杠\\加上字母或符号的名称表示希腊字母和符号，比如\\alpha表示α，\\pi表示π，\\infty表示∞。如果要表示大写的希腊字母，可以把名称首字母大写，比如\\Gamma表示Γ。有些符号有两种形式，可以在名称后面加上var来表示变体，比如\\epsilon表示ε，\\varepsilon表示ϵ。\n",
    "求和和积分：用\\sum表示求和符号∑，用\\int表示积分符号∫。如果要表示求和或积分的范围，可以用上标和下标，比如\\sum_{i=1}^n i表示从1到n的求和，\\int_0^1 f(x) dx表示从0到1的积分。如果要表示多重求和或积分，可以用\\sum\\sum或\\int\\int，比如\\sum\\sum_{i,j=1}^n a_{ij}表示双重求和，\\int\\int_D f(x,y) dxdy表示二重积分。\n",
    "矩阵和向量：用\\begin{matrix}…\\end{matrix}表示矩阵，用&分隔每一列，用\\\\换行，比如\\begin{matrix}1 & 2 \\\\ 3 & 4 \\end{matrix}表示一个2×2的矩阵。如果要给矩阵加上括号，可以用\\begin{pmatrix}…\\end{pmatrix}表示圆括号，或者用\\begin{bmatrix}…\\end{bmatrix}表示方括号。用\\vec{}表示向量，比如\\vec{x}表示向量x。"
   ]
  },
  {
   "cell_type": "markdown",
   "id": "b35f46b7",
   "metadata": {},
   "source": [
    "# 3.运行C代码"
   ]
  },
  {
   "cell_type": "markdown",
   "id": "6ba76519",
   "metadata": {},
   "source": [
    "## 3.1魔法渲染"
   ]
  },
  {
   "cell_type": "code",
   "execution_count": 6,
   "id": "0497db3b",
   "metadata": {},
   "outputs": [
    {
     "name": "stdout",
     "output_type": "stream",
     "text": [
      "Overwriting hello.c\n"
     ]
    }
   ],
   "source": [
    "%%file hello.c\n",
    "#include <stdio.h>\n",
    "\n",
    "int main() {\n",
    "    printf(\"Hello, world!\");\n",
    "}"
   ]
  },
  {
   "cell_type": "markdown",
   "id": "73c64f1c",
   "metadata": {},
   "source": [
    "## 3.2 编译"
   ]
  },
  {
   "cell_type": "code",
   "execution_count": 12,
   "id": "d98bb8b4",
   "metadata": {},
   "outputs": [],
   "source": [
    "!gcc hello.c -o hello"
   ]
  },
  {
   "cell_type": "markdown",
   "id": "12aaac6c",
   "metadata": {},
   "source": [
    "## 3.3执行\n",
    "\n",
    "不能加中文，因为gcc无法编译gbk\n",
    "\n",
    "但是也不能加注释似乎会把注释也视作指令所以报错"
   ]
  },
  {
   "cell_type": "code",
   "execution_count": 13,
   "id": "a06a95b9",
   "metadata": {},
   "outputs": [
    {
     "name": "stdout",
     "output_type": "stream",
     "text": [
      "Hello, world!\n"
     ]
    }
   ],
   "source": [
    "! ./hello"
   ]
  },
  {
   "cell_type": "markdown",
   "id": "80e6e903",
   "metadata": {},
   "source": [
    "# 4.Jupyter魔术命令\n",
    "\n",
    "Jupyter魔术命令是一些以%或%%开头的特殊命令，可以在Jupyter Notebook中执行一些方便的操作，比如运行其他语言的代码，查看变量信息，测量执行时间，管理包和文件等。\n",
    "\n",
    "魔术命令有两种形式：行魔术命令和单元格魔术命令。\n",
    "\n",
    "行魔术命令以%开头，只对当前行有效，单元格魔术命令以%%开头，对整个单元格有效。\n",
    "\n",
    "可以用%lsmagic命令查看所有可用的魔术命令，或者用%quickref命令查看所有魔术命令的简单帮助文档。你也可以用%magic命令查看所有魔术命令的详细帮助文档，或者用%Magics_Name?命令查看某个魔术命令的详细帮助文档"
   ]
  },
  {
   "cell_type": "code",
   "execution_count": null,
   "id": "9c777b0f",
   "metadata": {},
   "outputs": [],
   "source": []
  }
 ],
 "metadata": {
  "celltoolbar": "无",
  "kernelspec": {
   "display_name": "Python 3 (ipykernel)",
   "language": "python",
   "name": "python3"
  },
  "language_info": {
   "codemirror_mode": {
    "name": "ipython",
    "version": 3
   },
   "file_extension": ".py",
   "mimetype": "text/x-python",
   "name": "python",
   "nbconvert_exporter": "python",
   "pygments_lexer": "ipython3",
   "version": "3.9.16"
  }
 },
 "nbformat": 4,
 "nbformat_minor": 5
}
