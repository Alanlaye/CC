{
 "cells": [
  {
   "cell_type": "markdown",
   "id": "1edfeb0c",
   "metadata": {},
   "source": [
    "### 数据清洗基础"
   ]
  },
  {
   "cell_type": "markdown",
   "id": "c8ad0f16",
   "metadata": {},
   "source": [
    "#### 1.加载数据集"
   ]
  },
  {
   "cell_type": "code",
   "execution_count": null,
   "id": "ee379e5c",
   "metadata": {},
   "outputs": [],
   "source": [
    "import pandas as pd\n",
    "data = pd.read_csv('example.csv')"
   ]
  },
  {
   "cell_type": "markdown",
   "id": "fae1fe02",
   "metadata": {},
   "source": [
    "#### 2.检查数据"
   ]
  },
  {
   "cell_type": "code",
   "execution_count": null,
   "id": "3271b1fa",
   "metadata": {},
   "outputs": [],
   "source": [
    "data.head() # 打印前五行\n",
    "data.columnname.describe() # 查看一列的基本信息\n",
    "data['columnname'] # 选择一列\n",
    "data['columnname'][:n] # 选择一列的前几行数据\n",
    "data[['column1','column2']] # 选择多列\n",
    "data[data[['columnname'] > condition]] #Where条件过滤"
   ]
  },
  {
   "cell_type": "markdown",
   "id": "2d3fe8eb",
   "metadata": {},
   "source": [
    "#### 3.1 处理缺失数据-添加默认值"
   ]
  },
  {
   "cell_type": "code",
   "execution_count": null,
   "id": "19657c14",
   "metadata": {},
   "outputs": [],
   "source": [
    "# 填补空字符串\"\"\n",
    "data.contry = data.country.fillna('')\n",
    "\n",
    "# 填补平均值\n",
    "data.duration = data.duration.fillna(data.duration.mean())"
   ]
  },
  {
   "cell_type": "markdown",
   "id": "b489f448",
   "metadata": {},
   "source": [
    "#### 3.2 处理缺失数据-删除不完整的行"
   ]
  },
  {
   "cell_type": "code",
   "execution_count": null,
   "id": "f1f68387",
   "metadata": {},
   "outputs": [],
   "source": [
    "# 删除任何包含NA的值\n",
    "data.dropna()\n",
    "\n",
    "# 删除一整行值都为NA的行\n",
    "data.dropna(how = 'all')\n",
    "\n",
    "# 删除非缺失值（有效值）数量小于某个阈值的一行\n",
    "data.drop(thresh = 5)\n",
    "\n",
    "# 删除含有特定列中缺失值的行（不想要不知道/必须知道的数据缺失了）\n",
    "data.dropna(subset =  ['title_year'])"
   ]
  },
  {
   "cell_type": "markdown",
   "id": "84bfe363",
   "metadata": {},
   "source": [
    "#### 3.3处理缺失数据-删除不完整的列\n",
    "\n",
    "在行的基础上使用axis=1的参数"
   ]
  },
  {
   "cell_type": "markdown",
   "id": "eedff9ef",
   "metadata": {},
   "source": [
    "###### 注意：drop方法用来删除指定行/列，dropna用于删除含有缺失值的行/列"
   ]
  },
  {
   "cell_type": "code",
   "execution_count": null,
   "id": "ee2cb4ce",
   "metadata": {},
   "outputs": [],
   "source": [
    "# 删除一整列都为NA的列\n",
    "data.drop(axis = 1, how = 'all')\n",
    "\n",
    "# 删除任何包含空值的列\n",
    "data.drop(axis = 1, how = 'any')\n",
    "\n",
    "# 删除非缺失值（有效值）数量小于某个阈值的一列\n",
    "data.drop(thresh = 5)"
   ]
  },
  {
   "cell_type": "markdown",
   "id": "2a585500",
   "metadata": {},
   "source": [
    "#### 4.规范化数据类型"
   ]
  },
  {
   "cell_type": "code",
   "execution_count": null,
   "id": "b94e3620",
   "metadata": {},
   "outputs": [],
   "source": [
    "data = pd.read_csv('example.csv', dtype={'duration': int})\n",
    "data = pd.read_csv('example.csv', dtype={'title_year': str})"
   ]
  },
  {
   "cell_type": "markdown",
   "id": "9979f860",
   "metadata": {},
   "source": [
    "#### 5.必要变化\n",
    "- 错别字\n",
    "- 英文单词大小写不统一\n",
    "- 额外空格"
   ]
  },
  {
   "cell_type": "code",
   "execution_count": null,
   "id": "748e6aa1",
   "metadata": {},
   "outputs": [],
   "source": [
    "data['movie_title'].str.upper()\n",
    "data['movie_title'].str.strip()"
   ]
  },
  {
   "cell_type": "markdown",
   "id": "2acd1daa",
   "metadata": {},
   "source": [
    "#### 6.重命名列名"
   ]
  },
  {
   "cell_type": "code",
   "execution_count": null,
   "id": "48d464f8",
   "metadata": {},
   "outputs": [],
   "source": [
    "data.rename(columns = {'title_year':'release_data', 'movie_facebook_likes':'facebook_likes'},inplace=True)"
   ]
  },
  {
   "cell_type": "markdown",
   "id": "9d565c39",
   "metadata": {},
   "source": [
    "#### 7.保存结果"
   ]
  },
  {
   "cell_type": "code",
   "execution_count": null,
   "id": "a6c901c4",
   "metadata": {},
   "outputs": [],
   "source": [
    "data.to_csv('cleanfile.csv',encoding='utf-8')"
   ]
  },
  {
   "cell_type": "markdown",
   "id": "7b080f5c",
   "metadata": {},
   "source": [
    "### 二、清洗脏数据"
   ]
  },
  {
   "cell_type": "markdown",
   "id": "7eacac25",
   "metadata": {},
   "source": [
    "#### 问题1：没有列头"
   ]
  },
  {
   "cell_type": "code",
   "execution_count": null,
   "id": "390360b1",
   "metadata": {},
   "outputs": [],
   "source": [
    "import pandas as pd\n",
    "column_names = ['id', 'name', 'age', 'weight','m0006','m0612','m1218','f0006','f0612','f1218']\n",
    "df = pd.read_csv('example.csv', names = column_names)"
   ]
  },
  {
   "cell_type": "markdown",
   "id": "504171e9",
   "metadata": {},
   "source": [
    "#### 问题2：一个列有多个参数"
   ]
  },
  {
   "cell_type": "code",
   "execution_count": null,
   "id": "539e3894",
   "metadata": {},
   "outputs": [],
   "source": [
    "# 切分名字，删除源数据列\n",
    "df[['first_name','last_name']] = df['name'].str.split(expand = True)\n",
    "df.drop('name',axis=1,inplace=True)"
   ]
  },
  {
   "cell_type": "markdown",
   "id": "786b5b2e",
   "metadata": {},
   "source": [
    "#### 问题3：列数据的单位不统一"
   ]
  },
  {
   "cell_type": "code",
   "execution_count": null,
   "id": "b2c2db6b",
   "metadata": {},
   "outputs": [],
   "source": [
    "# 获取 weight 数据列中单位为 lbs 的数据\n",
    "rows_with_lbs = df['weight'].str.contains('lbs').fillna(False)\n",
    "\n",
    "# 将 lbs 的数据转换为 kgs 数据\n",
    "for i,lbs_row in df[rows_with_lbs].iterrows(): #对于row_with_lbs为true的项\n",
    "    weight = int(float(lbs_row['weight'][:-3]) / 2.2)\n",
    "    df.at[i,'weight'] = '{}kgs'.format(weight)"
   ]
  },
  {
   "cell_type": "markdown",
   "id": "d5e3285b",
   "metadata": {},
   "source": [
    "#### 问题4：缺失值\n",
    "\n",
    "常见处理方法：\n",
    "\n",
    "- 删：删除数据缺失记录\n",
    "- 赝：使用合法的初始值替换，数值类型可以使用 0，字符串可以使用空字符串“”\n",
    "- 均值：使用当前列的均值\n",
    "- 高频：使用当前列出现频率最高的数据\n",
    "- 源头优化"
   ]
  },
  {
   "cell_type": "code",
   "execution_count": null,
   "id": "a935c90c",
   "metadata": {},
   "outputs": [],
   "source": [
    "# 删除\n",
    "data.dropna() \n",
    "\n",
    "# 初始值替换\n",
    "data.fillna(0,inplace=True)\n",
    "data.fillna(\"\",inplace=True)\n",
    "\n",
    "# 使用当前列均值\n",
    "data['column_name'].fillna(data['column_name'].mean(),inplace=True)\n",
    "\n",
    "# 使用当前列出现频率最高的数据\n",
    "most_frequent = data['column_name'].mode()[0]\n",
    "data['column_name'].fiina(most_frequent, inplace=True)"
   ]
  },
  {
   "cell_type": "markdown",
   "id": "6a79a04f",
   "metadata": {},
   "source": [
    "#### 问题5：空行"
   ]
  },
  {
   "cell_type": "code",
   "execution_count": null,
   "id": "c37ed44c",
   "metadata": {},
   "outputs": [],
   "source": [
    "df.dropna(how='all',inplace=True)"
   ]
  },
  {
   "cell_type": "markdown",
   "id": "64e89c36",
   "metadata": {},
   "source": [
    "#### 问题6：重复数据"
   ]
  },
  {
   "cell_type": "code",
   "execution_count": null,
   "id": "d49974d6",
   "metadata": {},
   "outputs": [],
   "source": [
    "# 删除重复数据行 drop_duplicates()\n",
    "# 基于指定的列（first_name和last_name都需要相同）\n",
    "df.drop_duplicates(['first_name','last_name'],inplace=True)"
   ]
  },
  {
   "cell_type": "markdown",
   "id": "661c2ae5",
   "metadata": {},
   "source": [
    "#### 问题7：非ASCII字符"
   ]
  },
  {
   "cell_type": "code",
   "execution_count": null,
   "id": "4e876b9a",
   "metadata": {},
   "outputs": [],
   "source": [
    "# 删除非ASCII字符\n",
    "df['first_name'].replace({r'[^\\x00-\\x7F]+':''},regex=True,inplace=True)\n",
    "df['last_name'].replace({r'[^\\x00-\\x7F]+':''},regex=True,inplace=True)"
   ]
  },
  {
   "cell_type": "markdown",
   "id": "2ffe2476",
   "metadata": {},
   "source": [
    "#### 问题8：有些列头应该是数据，而不应该是列名参数"
   ]
  },
  {
   "cell_type": "code",
   "execution_count": null,
   "id": "440942f0",
   "metadata": {},
   "outputs": [],
   "source": [
    "# 切分 sex_hour 列为 sex 列和 hour 列\n",
    "sorted_columns = ['id','age','weight','first_name','last_name']\n",
    "df = pd.melt(df,\n",
    "id_vars=sorted_columns,var_name='sex_hour',value_name='puls_rate').sort_values(sorted_columns)\n",
    "df[['sex','hour']] = df['sex_hour'].apply(lambda x:pd.Series(([x[:1],'{}-{}'.format(x[1:3],x[3:])])))[[0,1]]\n",
    "df.drop('sex_hour', axis=1, inplace=True)\n",
    "\n",
    "# 删除没有心率的数据\n",
    "row_with_dashes = df['puls_rate'].str.contains('-').fillna(False)\n",
    "df.drop(df[row_with_dashes].index,\n",
    "inplace=True)"
   ]
  },
  {
   "cell_type": "code",
   "execution_count": null,
   "id": "b8348b35",
   "metadata": {},
   "outputs": [],
   "source": [
    "# 重置索引\n",
    "df = df.reset_index(drop=True)"
   ]
  },
  {
   "cell_type": "markdown",
   "id": "e377c861",
   "metadata": {},
   "source": [
    "### 三、实例"
   ]
  },
  {
   "cell_type": "code",
   "execution_count": 2,
   "id": "0279ca03",
   "metadata": {},
   "outputs": [
    {
     "data": {
      "text/html": [
       "<div>\n",
       "<style scoped>\n",
       "    .dataframe tbody tr th:only-of-type {\n",
       "        vertical-align: middle;\n",
       "    }\n",
       "\n",
       "    .dataframe tbody tr th {\n",
       "        vertical-align: top;\n",
       "    }\n",
       "\n",
       "    .dataframe thead th {\n",
       "        text-align: right;\n",
       "    }\n",
       "</style>\n",
       "<table border=\"1\" class=\"dataframe\">\n",
       "  <thead>\n",
       "    <tr style=\"text-align: right;\">\n",
       "      <th></th>\n",
       "      <th>Title</th>\n",
       "      <th>Artist</th>\n",
       "      <th>ConstituentID</th>\n",
       "      <th>ArtistBio</th>\n",
       "      <th>Nationality</th>\n",
       "      <th>BeginDate</th>\n",
       "      <th>EndDate</th>\n",
       "      <th>Gender</th>\n",
       "      <th>Date</th>\n",
       "      <th>Medium</th>\n",
       "      <th>...</th>\n",
       "      <th>ThumbnailURL</th>\n",
       "      <th>Circumference (cm)</th>\n",
       "      <th>Depth (cm)</th>\n",
       "      <th>Diameter (cm)</th>\n",
       "      <th>Height (cm)</th>\n",
       "      <th>Length (cm)</th>\n",
       "      <th>Weight (kg)</th>\n",
       "      <th>Width (cm)</th>\n",
       "      <th>Seat Height (cm)</th>\n",
       "      <th>Duration (sec.)</th>\n",
       "    </tr>\n",
       "  </thead>\n",
       "  <tbody>\n",
       "    <tr>\n",
       "      <th>0</th>\n",
       "      <td>Ferdinandsbrücke Project, Vienna, Austria (Ele...</td>\n",
       "      <td>Otto Wagner</td>\n",
       "      <td>6210</td>\n",
       "      <td>(Austrian, 1841–1918)</td>\n",
       "      <td>(Austrian)</td>\n",
       "      <td>(1841)</td>\n",
       "      <td>(1918)</td>\n",
       "      <td>(Male)</td>\n",
       "      <td>1896</td>\n",
       "      <td>Ink and cut-and-pasted painted pages on paper</td>\n",
       "      <td>...</td>\n",
       "      <td>http://www.moma.org/media/W1siZiIsIjUyNzc3MCJd...</td>\n",
       "      <td>NaN</td>\n",
       "      <td>NaN</td>\n",
       "      <td>NaN</td>\n",
       "      <td>48.6000</td>\n",
       "      <td>NaN</td>\n",
       "      <td>NaN</td>\n",
       "      <td>168.9000</td>\n",
       "      <td>NaN</td>\n",
       "      <td>NaN</td>\n",
       "    </tr>\n",
       "    <tr>\n",
       "      <th>1</th>\n",
       "      <td>City of Music, National Superior Conservatory ...</td>\n",
       "      <td>Christian de Portzamparc</td>\n",
       "      <td>7470</td>\n",
       "      <td>(French, born 1944)</td>\n",
       "      <td>(French)</td>\n",
       "      <td>(1944)</td>\n",
       "      <td>(0)</td>\n",
       "      <td>(Male)</td>\n",
       "      <td>1987</td>\n",
       "      <td>Paint and colored pencil on print</td>\n",
       "      <td>...</td>\n",
       "      <td>http://www.moma.org/media/W1siZiIsIjUyNzM3NCJd...</td>\n",
       "      <td>NaN</td>\n",
       "      <td>NaN</td>\n",
       "      <td>NaN</td>\n",
       "      <td>40.6401</td>\n",
       "      <td>NaN</td>\n",
       "      <td>NaN</td>\n",
       "      <td>29.8451</td>\n",
       "      <td>NaN</td>\n",
       "      <td>NaN</td>\n",
       "    </tr>\n",
       "    <tr>\n",
       "      <th>2</th>\n",
       "      <td>Villa near Vienna Project, Outside Vienna, Aus...</td>\n",
       "      <td>Emil Hoppe</td>\n",
       "      <td>7605</td>\n",
       "      <td>(Austrian, 1876–1957)</td>\n",
       "      <td>(Austrian)</td>\n",
       "      <td>(1876)</td>\n",
       "      <td>(1957)</td>\n",
       "      <td>(Male)</td>\n",
       "      <td>1903</td>\n",
       "      <td>Graphite, pen, color pencil, ink, and gouache ...</td>\n",
       "      <td>...</td>\n",
       "      <td>http://www.moma.org/media/W1siZiIsIjUyNzM3NSJd...</td>\n",
       "      <td>NaN</td>\n",
       "      <td>NaN</td>\n",
       "      <td>NaN</td>\n",
       "      <td>34.3000</td>\n",
       "      <td>NaN</td>\n",
       "      <td>NaN</td>\n",
       "      <td>31.8000</td>\n",
       "      <td>NaN</td>\n",
       "      <td>NaN</td>\n",
       "    </tr>\n",
       "    <tr>\n",
       "      <th>3</th>\n",
       "      <td>The Manhattan Transcripts Project, New York, N...</td>\n",
       "      <td>Bernard Tschumi</td>\n",
       "      <td>7056</td>\n",
       "      <td>(French and Swiss, born Switzerland 1944)</td>\n",
       "      <td>()</td>\n",
       "      <td>(1944)</td>\n",
       "      <td>(0)</td>\n",
       "      <td>(Male)</td>\n",
       "      <td>1980</td>\n",
       "      <td>Photographic reproduction with colored synthet...</td>\n",
       "      <td>...</td>\n",
       "      <td>http://www.moma.org/media/W1siZiIsIjUyNzQ3NCJd...</td>\n",
       "      <td>NaN</td>\n",
       "      <td>NaN</td>\n",
       "      <td>NaN</td>\n",
       "      <td>50.8000</td>\n",
       "      <td>NaN</td>\n",
       "      <td>NaN</td>\n",
       "      <td>50.8000</td>\n",
       "      <td>NaN</td>\n",
       "      <td>NaN</td>\n",
       "    </tr>\n",
       "    <tr>\n",
       "      <th>4</th>\n",
       "      <td>Villa, project, outside Vienna, Austria, Exter...</td>\n",
       "      <td>Emil Hoppe</td>\n",
       "      <td>7605</td>\n",
       "      <td>(Austrian, 1876–1957)</td>\n",
       "      <td>(Austrian)</td>\n",
       "      <td>(1876)</td>\n",
       "      <td>(1957)</td>\n",
       "      <td>(Male)</td>\n",
       "      <td>1903</td>\n",
       "      <td>Graphite, color pencil, ink, and gouache on tr...</td>\n",
       "      <td>...</td>\n",
       "      <td>http://www.moma.org/media/W1siZiIsIjUyNzQ3NSJd...</td>\n",
       "      <td>NaN</td>\n",
       "      <td>NaN</td>\n",
       "      <td>NaN</td>\n",
       "      <td>38.4000</td>\n",
       "      <td>NaN</td>\n",
       "      <td>NaN</td>\n",
       "      <td>19.1000</td>\n",
       "      <td>NaN</td>\n",
       "      <td>NaN</td>\n",
       "    </tr>\n",
       "    <tr>\n",
       "      <th>5</th>\n",
       "      <td>The Manhattan Transcripts Project, New York, N...</td>\n",
       "      <td>Bernard Tschumi</td>\n",
       "      <td>7056</td>\n",
       "      <td>(French and Swiss, born Switzerland 1944)</td>\n",
       "      <td>()</td>\n",
       "      <td>(1944)</td>\n",
       "      <td>(0)</td>\n",
       "      <td>(Male)</td>\n",
       "      <td>1976-77</td>\n",
       "      <td>Gelatin silver photograph</td>\n",
       "      <td>...</td>\n",
       "      <td>http://www.moma.org/media/W1siZiIsIjUyNzUyMCJd...</td>\n",
       "      <td>NaN</td>\n",
       "      <td>NaN</td>\n",
       "      <td>NaN</td>\n",
       "      <td>35.6000</td>\n",
       "      <td>NaN</td>\n",
       "      <td>NaN</td>\n",
       "      <td>45.7000</td>\n",
       "      <td>NaN</td>\n",
       "      <td>NaN</td>\n",
       "    </tr>\n",
       "    <tr>\n",
       "      <th>6</th>\n",
       "      <td>The Manhattan Transcripts Project, New York, N...</td>\n",
       "      <td>Bernard Tschumi</td>\n",
       "      <td>7056</td>\n",
       "      <td>(French and Swiss, born Switzerland 1944)</td>\n",
       "      <td>()</td>\n",
       "      <td>(1944)</td>\n",
       "      <td>(0)</td>\n",
       "      <td>(Male)</td>\n",
       "      <td>1976-77</td>\n",
       "      <td>Gelatin silver photographs</td>\n",
       "      <td>...</td>\n",
       "      <td>http://www.moma.org/media/W1siZiIsIjUyNzUyMyJd...</td>\n",
       "      <td>NaN</td>\n",
       "      <td>NaN</td>\n",
       "      <td>NaN</td>\n",
       "      <td>35.6000</td>\n",
       "      <td>NaN</td>\n",
       "      <td>NaN</td>\n",
       "      <td>45.7000</td>\n",
       "      <td>NaN</td>\n",
       "      <td>NaN</td>\n",
       "    </tr>\n",
       "    <tr>\n",
       "      <th>7</th>\n",
       "      <td>The Manhattan Transcripts Project, New York, N...</td>\n",
       "      <td>Bernard Tschumi</td>\n",
       "      <td>7056</td>\n",
       "      <td>(French and Swiss, born Switzerland 1944)</td>\n",
       "      <td>()</td>\n",
       "      <td>(1944)</td>\n",
       "      <td>(0)</td>\n",
       "      <td>(Male)</td>\n",
       "      <td>1976-77</td>\n",
       "      <td>Gelatin silver photograph</td>\n",
       "      <td>...</td>\n",
       "      <td>NaN</td>\n",
       "      <td>NaN</td>\n",
       "      <td>NaN</td>\n",
       "      <td>NaN</td>\n",
       "      <td>35.6000</td>\n",
       "      <td>NaN</td>\n",
       "      <td>NaN</td>\n",
       "      <td>45.7000</td>\n",
       "      <td>NaN</td>\n",
       "      <td>NaN</td>\n",
       "    </tr>\n",
       "    <tr>\n",
       "      <th>8</th>\n",
       "      <td>The Manhattan Transcripts Project, New York, N...</td>\n",
       "      <td>Bernard Tschumi</td>\n",
       "      <td>7056</td>\n",
       "      <td>(French and Swiss, born Switzerland 1944)</td>\n",
       "      <td>()</td>\n",
       "      <td>(1944)</td>\n",
       "      <td>(0)</td>\n",
       "      <td>(Male)</td>\n",
       "      <td>1976-77</td>\n",
       "      <td>Gelatin silver photograph</td>\n",
       "      <td>...</td>\n",
       "      <td>http://www.moma.org/media/W1siZiIsIjUyNzUyMSJd...</td>\n",
       "      <td>NaN</td>\n",
       "      <td>NaN</td>\n",
       "      <td>NaN</td>\n",
       "      <td>35.6000</td>\n",
       "      <td>NaN</td>\n",
       "      <td>NaN</td>\n",
       "      <td>45.7000</td>\n",
       "      <td>NaN</td>\n",
       "      <td>NaN</td>\n",
       "    </tr>\n",
       "    <tr>\n",
       "      <th>9</th>\n",
       "      <td>The Manhattan Transcripts Project, New York, N...</td>\n",
       "      <td>Bernard Tschumi</td>\n",
       "      <td>7056</td>\n",
       "      <td>(French and Swiss, born Switzerland 1944)</td>\n",
       "      <td>()</td>\n",
       "      <td>(1944)</td>\n",
       "      <td>(0)</td>\n",
       "      <td>(Male)</td>\n",
       "      <td>1976-77</td>\n",
       "      <td>Gelatin silver photograph</td>\n",
       "      <td>...</td>\n",
       "      <td>http://www.moma.org/media/W1siZiIsIjUyNzUyMiJd...</td>\n",
       "      <td>NaN</td>\n",
       "      <td>NaN</td>\n",
       "      <td>NaN</td>\n",
       "      <td>35.6000</td>\n",
       "      <td>NaN</td>\n",
       "      <td>NaN</td>\n",
       "      <td>45.7000</td>\n",
       "      <td>NaN</td>\n",
       "      <td>NaN</td>\n",
       "    </tr>\n",
       "  </tbody>\n",
       "</table>\n",
       "<p>10 rows × 29 columns</p>\n",
       "</div>"
      ],
      "text/plain": [
       "                                               Title  \\\n",
       "0  Ferdinandsbrücke Project, Vienna, Austria (Ele...   \n",
       "1  City of Music, National Superior Conservatory ...   \n",
       "2  Villa near Vienna Project, Outside Vienna, Aus...   \n",
       "3  The Manhattan Transcripts Project, New York, N...   \n",
       "4  Villa, project, outside Vienna, Austria, Exter...   \n",
       "5  The Manhattan Transcripts Project, New York, N...   \n",
       "6  The Manhattan Transcripts Project, New York, N...   \n",
       "7  The Manhattan Transcripts Project, New York, N...   \n",
       "8  The Manhattan Transcripts Project, New York, N...   \n",
       "9  The Manhattan Transcripts Project, New York, N...   \n",
       "\n",
       "                     Artist ConstituentID  \\\n",
       "0               Otto Wagner          6210   \n",
       "1  Christian de Portzamparc          7470   \n",
       "2                Emil Hoppe          7605   \n",
       "3           Bernard Tschumi          7056   \n",
       "4                Emil Hoppe          7605   \n",
       "5           Bernard Tschumi          7056   \n",
       "6           Bernard Tschumi          7056   \n",
       "7           Bernard Tschumi          7056   \n",
       "8           Bernard Tschumi          7056   \n",
       "9           Bernard Tschumi          7056   \n",
       "\n",
       "                                   ArtistBio Nationality BeginDate EndDate  \\\n",
       "0                      (Austrian, 1841–1918)  (Austrian)    (1841)  (1918)   \n",
       "1                        (French, born 1944)    (French)    (1944)     (0)   \n",
       "2                      (Austrian, 1876–1957)  (Austrian)    (1876)  (1957)   \n",
       "3  (French and Swiss, born Switzerland 1944)          ()    (1944)     (0)   \n",
       "4                      (Austrian, 1876–1957)  (Austrian)    (1876)  (1957)   \n",
       "5  (French and Swiss, born Switzerland 1944)          ()    (1944)     (0)   \n",
       "6  (French and Swiss, born Switzerland 1944)          ()    (1944)     (0)   \n",
       "7  (French and Swiss, born Switzerland 1944)          ()    (1944)     (0)   \n",
       "8  (French and Swiss, born Switzerland 1944)          ()    (1944)     (0)   \n",
       "9  (French and Swiss, born Switzerland 1944)          ()    (1944)     (0)   \n",
       "\n",
       "   Gender     Date                                             Medium  ...  \\\n",
       "0  (Male)     1896      Ink and cut-and-pasted painted pages on paper  ...   \n",
       "1  (Male)     1987                  Paint and colored pencil on print  ...   \n",
       "2  (Male)     1903  Graphite, pen, color pencil, ink, and gouache ...  ...   \n",
       "3  (Male)     1980  Photographic reproduction with colored synthet...  ...   \n",
       "4  (Male)     1903  Graphite, color pencil, ink, and gouache on tr...  ...   \n",
       "5  (Male)  1976-77                          Gelatin silver photograph  ...   \n",
       "6  (Male)  1976-77                         Gelatin silver photographs  ...   \n",
       "7  (Male)  1976-77                          Gelatin silver photograph  ...   \n",
       "8  (Male)  1976-77                          Gelatin silver photograph  ...   \n",
       "9  (Male)  1976-77                          Gelatin silver photograph  ...   \n",
       "\n",
       "                                        ThumbnailURL Circumference (cm)  \\\n",
       "0  http://www.moma.org/media/W1siZiIsIjUyNzc3MCJd...                NaN   \n",
       "1  http://www.moma.org/media/W1siZiIsIjUyNzM3NCJd...                NaN   \n",
       "2  http://www.moma.org/media/W1siZiIsIjUyNzM3NSJd...                NaN   \n",
       "3  http://www.moma.org/media/W1siZiIsIjUyNzQ3NCJd...                NaN   \n",
       "4  http://www.moma.org/media/W1siZiIsIjUyNzQ3NSJd...                NaN   \n",
       "5  http://www.moma.org/media/W1siZiIsIjUyNzUyMCJd...                NaN   \n",
       "6  http://www.moma.org/media/W1siZiIsIjUyNzUyMyJd...                NaN   \n",
       "7                                                NaN                NaN   \n",
       "8  http://www.moma.org/media/W1siZiIsIjUyNzUyMSJd...                NaN   \n",
       "9  http://www.moma.org/media/W1siZiIsIjUyNzUyMiJd...                NaN   \n",
       "\n",
       "  Depth (cm) Diameter (cm) Height (cm) Length (cm) Weight (kg)  Width (cm)  \\\n",
       "0        NaN           NaN     48.6000         NaN         NaN    168.9000   \n",
       "1        NaN           NaN     40.6401         NaN         NaN     29.8451   \n",
       "2        NaN           NaN     34.3000         NaN         NaN     31.8000   \n",
       "3        NaN           NaN     50.8000         NaN         NaN     50.8000   \n",
       "4        NaN           NaN     38.4000         NaN         NaN     19.1000   \n",
       "5        NaN           NaN     35.6000         NaN         NaN     45.7000   \n",
       "6        NaN           NaN     35.6000         NaN         NaN     45.7000   \n",
       "7        NaN           NaN     35.6000         NaN         NaN     45.7000   \n",
       "8        NaN           NaN     35.6000         NaN         NaN     45.7000   \n",
       "9        NaN           NaN     35.6000         NaN         NaN     45.7000   \n",
       "\n",
       "  Seat Height (cm) Duration (sec.)  \n",
       "0              NaN             NaN  \n",
       "1              NaN             NaN  \n",
       "2              NaN             NaN  \n",
       "3              NaN             NaN  \n",
       "4              NaN             NaN  \n",
       "5              NaN             NaN  \n",
       "6              NaN             NaN  \n",
       "7              NaN             NaN  \n",
       "8              NaN             NaN  \n",
       "9              NaN             NaN  \n",
       "\n",
       "[10 rows x 29 columns]"
      ]
     },
     "execution_count": 2,
     "metadata": {},
     "output_type": "execute_result"
    }
   ],
   "source": [
    "import pandas as pd\n",
    "df = pd.read_csv('Artworks.csv').head(100)\n",
    "df.head(10)"
   ]
  },
  {
   "cell_type": "markdown",
   "id": "2ec49133",
   "metadata": {},
   "source": [
    "#### 3.1 统计日期数据"
   ]
  },
  {
   "cell_type": "code",
   "execution_count": 3,
   "id": "d2984535",
   "metadata": {},
   "outputs": [
    {
     "data": {
      "text/plain": [
       "Date\n",
       "1976-77    25\n",
       "1980-81    15\n",
       "1979       12\n",
       "Unknown     7\n",
       "1980        5\n",
       "1978        5\n",
       "1917        5\n",
       "1923        4\n",
       "1935        3\n",
       "1903        2\n",
       "1987        2\n",
       "1974        1\n",
       "1936        1\n",
       "1930        1\n",
       "c. 1917     1\n",
       "n.d.        1\n",
       "1896        1\n",
       "1986        1\n",
       "1984        1\n",
       "1975        1\n",
       "1918        1\n",
       "1906        1\n",
       "1905        1\n",
       "1900        1\n",
       "1968        1\n",
       "1970        1\n",
       "Name: count, dtype: int64"
      ]
     },
     "execution_count": 3,
     "metadata": {},
     "output_type": "execute_result"
    }
   ],
   "source": [
    "df['Date'].value_counts()"
   ]
  },
  {
   "cell_type": "markdown",
   "id": "491f550b",
   "metadata": {},
   "source": [
    "##### 日期存在的问题\n",
    "` 问题一，时间范围（1976-77）`\n",
    "\n",
    "` 问题二，估计（c. 1917，1917 年前后）`\n",
    "\n",
    "` 问题三，缺失数据（Unknown）`\n",
    "\n",
    "` 问题四，无意义数据（n.d.）`"
   ]
  },
  {
   "cell_type": "code",
   "execution_count": 6,
   "id": "d8c26fc7",
   "metadata": {},
   "outputs": [
    {
     "data": {
      "text/plain": [
       "Date\n",
       "1976       25\n",
       "1980       20\n",
       "1979       12\n",
       "Unknown     7\n",
       "1978        5\n",
       "1917        5\n",
       "1923        4\n",
       "1935        3\n",
       "1903        2\n",
       "1987        2\n",
       "1974        1\n",
       "1936        1\n",
       "1930        1\n",
       "c. 1917     1\n",
       "n.d.        1\n",
       "1896        1\n",
       "1986        1\n",
       "1984        1\n",
       "1975        1\n",
       "1918        1\n",
       "1906        1\n",
       "1905        1\n",
       "1900        1\n",
       "1968        1\n",
       "1970        1\n",
       "Name: count, dtype: int64"
      ]
     },
     "execution_count": 6,
     "metadata": {},
     "output_type": "execute_result"
    }
   ],
   "source": [
    "# 问题1\n",
    "rows_with_dashes = df['Date'].str.contains('-').fillna(False)\n",
    "for i, dash in df[rows_with_dashes].iterrows():\n",
    "    df.at[i,'Date'] = dash['Date'][0:4]\n",
    "\n",
    "df['Date'].value_counts()"
   ]
  },
  {
   "cell_type": "code",
   "execution_count": 8,
   "id": "f117d49a",
   "metadata": {},
   "outputs": [
    {
     "data": {
      "text/html": [
       "<div>\n",
       "<style scoped>\n",
       "    .dataframe tbody tr th:only-of-type {\n",
       "        vertical-align: middle;\n",
       "    }\n",
       "\n",
       "    .dataframe tbody tr th {\n",
       "        vertical-align: top;\n",
       "    }\n",
       "\n",
       "    .dataframe thead th {\n",
       "        text-align: right;\n",
       "    }\n",
       "</style>\n",
       "<table border=\"1\" class=\"dataframe\">\n",
       "  <thead>\n",
       "    <tr style=\"text-align: right;\">\n",
       "      <th></th>\n",
       "      <th>Title</th>\n",
       "      <th>Artist</th>\n",
       "      <th>ConstituentID</th>\n",
       "      <th>ArtistBio</th>\n",
       "      <th>Nationality</th>\n",
       "      <th>BeginDate</th>\n",
       "      <th>EndDate</th>\n",
       "      <th>Gender</th>\n",
       "      <th>Date</th>\n",
       "      <th>Medium</th>\n",
       "      <th>...</th>\n",
       "      <th>ThumbnailURL</th>\n",
       "      <th>Circumference (cm)</th>\n",
       "      <th>Depth (cm)</th>\n",
       "      <th>Diameter (cm)</th>\n",
       "      <th>Height (cm)</th>\n",
       "      <th>Length (cm)</th>\n",
       "      <th>Weight (kg)</th>\n",
       "      <th>Width (cm)</th>\n",
       "      <th>Seat Height (cm)</th>\n",
       "      <th>Duration (sec.)</th>\n",
       "    </tr>\n",
       "  </thead>\n",
       "  <tbody>\n",
       "    <tr>\n",
       "      <th>78</th>\n",
       "      <td>Villa Snellman, Djursholm, Sweden, Elevation o...</td>\n",
       "      <td>Erik Gunnar Asplund</td>\n",
       "      <td>27</td>\n",
       "      <td>(Swedish, 1885–1940)</td>\n",
       "      <td>(Swedish)</td>\n",
       "      <td>(1885)</td>\n",
       "      <td>(1940)</td>\n",
       "      <td>(Male)</td>\n",
       "      <td>1917</td>\n",
       "      <td>Graphite and crayon on tracing paper mounted o...</td>\n",
       "      <td>...</td>\n",
       "      <td>http://www.moma.org/media/W1siZiIsIjUyNzA5NCJd...</td>\n",
       "      <td>NaN</td>\n",
       "      <td>NaN</td>\n",
       "      <td>NaN</td>\n",
       "      <td>23.2</td>\n",
       "      <td>NaN</td>\n",
       "      <td>NaN</td>\n",
       "      <td>34.9</td>\n",
       "      <td>NaN</td>\n",
       "      <td>NaN</td>\n",
       "    </tr>\n",
       "  </tbody>\n",
       "</table>\n",
       "<p>1 rows × 29 columns</p>\n",
       "</div>"
      ],
      "text/plain": [
       "                                                Title               Artist  \\\n",
       "78  Villa Snellman, Djursholm, Sweden, Elevation o...  Erik Gunnar Asplund   \n",
       "\n",
       "   ConstituentID             ArtistBio Nationality BeginDate EndDate  Gender  \\\n",
       "78            27  (Swedish, 1885–1940)   (Swedish)    (1885)  (1940)  (Male)   \n",
       "\n",
       "    Date                                             Medium  ...  \\\n",
       "78  1917  Graphite and crayon on tracing paper mounted o...  ...   \n",
       "\n",
       "                                         ThumbnailURL Circumference (cm)  \\\n",
       "78  http://www.moma.org/media/W1siZiIsIjUyNzA5NCJd...                NaN   \n",
       "\n",
       "   Depth (cm) Diameter (cm) Height (cm) Length (cm) Weight (kg)  Width (cm)  \\\n",
       "78        NaN           NaN        23.2         NaN         NaN        34.9   \n",
       "\n",
       "   Seat Height (cm) Duration (sec.)  \n",
       "78              NaN             NaN  \n",
       "\n",
       "[1 rows x 29 columns]"
      ]
     },
     "execution_count": 8,
     "metadata": {},
     "output_type": "execute_result"
    }
   ],
   "source": [
    "# 处理问题2\n",
    "rows_with_cs = df['Date'].str.contains('c').fillna(False)\n",
    "for i, row in df[rows_with_cs].iterrows():\n",
    "    df.at[i,'Date'] = row['Date'][-4:]\n",
    "    \n",
    "df[rows_with_cs]"
   ]
  },
  {
   "cell_type": "code",
   "execution_count": 9,
   "id": "8fa23dfc",
   "metadata": {},
   "outputs": [
    {
     "data": {
      "text/plain": [
       "0     1896\n",
       "1     1987\n",
       "2     1903\n",
       "3     1980\n",
       "4     1903\n",
       "      ... \n",
       "95    1936\n",
       "96       0\n",
       "97    1935\n",
       "98    1935\n",
       "99    1935\n",
       "Name: Date, Length: 100, dtype: object"
      ]
     },
     "execution_count": 9,
     "metadata": {},
     "output_type": "execute_result"
    }
   ],
   "source": [
    "# 问题3/4:将数据赋值成初始值0\n",
    "df['Date'] = df['Date'].replace('Unknown','0',regex=True)\n",
    "df['Date'] = df['Date'].replace('n.d.','0',regex=True)\n",
    "df['Date']"
   ]
  },
  {
   "cell_type": "code",
   "execution_count": null,
   "id": "4e588014",
   "metadata": {},
   "outputs": [],
   "source": []
  },
  {
   "cell_type": "code",
   "execution_count": null,
   "id": "e334cce4",
   "metadata": {},
   "outputs": [],
   "source": []
  },
  {
   "cell_type": "code",
   "execution_count": null,
   "id": "9e4fc264",
   "metadata": {},
   "outputs": [],
   "source": []
  },
  {
   "cell_type": "code",
   "execution_count": null,
   "id": "340acf74",
   "metadata": {},
   "outputs": [],
   "source": []
  }
 ],
 "metadata": {
  "kernelspec": {
   "display_name": "Python 3 (ipykernel)",
   "language": "python",
   "name": "python3"
  },
  "language_info": {
   "codemirror_mode": {
    "name": "ipython",
    "version": 3
   },
   "file_extension": ".py",
   "mimetype": "text/x-python",
   "name": "python",
   "nbconvert_exporter": "python",
   "pygments_lexer": "ipython3",
   "version": "3.9.16"
  }
 },
 "nbformat": 4,
 "nbformat_minor": 5
}
