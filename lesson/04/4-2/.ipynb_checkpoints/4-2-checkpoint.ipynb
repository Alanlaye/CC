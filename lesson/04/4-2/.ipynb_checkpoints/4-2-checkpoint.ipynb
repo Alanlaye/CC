{
 "cells": [
  {
   "cell_type": "markdown",
   "id": "b6913555",
   "metadata": {},
   "source": [
    "### 数据清洗\n",
    "#### 一般而言是将数据转化为数据框样式\n",
    "#### 基本逻辑\n",
    "- 清洗错误行\n",
    "- 正确分列\n",
    "- 提取所要分析的内容\n",
    "- 介绍通过按行、chunk方式对大规模数据进行预处理"
   ]
  },
  {
   "cell_type": "markdown",
   "id": "28bcbcff",
   "metadata": {},
   "source": [
    "#### 同时考虑分列符和引用符\n",
    "- 分列符/分隔符：sep，delimiter\n",
    "- 引用符：quotechar\n",
    "\n",
    "> A,B,C\n",
    "> 1,\"2,3\",4\n",
    "> 5,6,7\n",
    "\n",
    "这里面逗号是分隔符，双引号是引用符"
   ]
  },
  {
   "cell_type": "code",
   "execution_count": null,
   "id": "de513ced",
   "metadata": {},
   "outputs": [],
   "source": [
    "# ps：在学习这一章的时候没有找到相关数据资源所以忽略FileNotFound的bug\n",
    "with open(\"./data/ows_tweets_sample.txt\", 'r') as f:\n",
    "    chunk = f.readlines()"
   ]
  },
  {
   "cell_type": "code",
   "execution_count": null,
   "id": "6226236c",
   "metadata": {},
   "outputs": [],
   "source": [
    "import csv\n",
    "lines_csv = csv.reader(chunk, delimiter=',', quotechar='\"') \n",
    "print(len(list(lines_csv)))\n",
    "# next(lines_csv)\n",
    "# next(lines_csv)"
   ]
  },
  {
   "cell_type": "code",
   "execution_count": null,
   "id": "df677464",
   "metadata": {},
   "outputs": [],
   "source": [
    "import pandas as pd\n",
    "df = pd.read_csv(\"./data/ows_tweets_sample.txt\",\n",
    "                 sep = ',', quotechar='\"')\n",
    "df[:3]"
   ]
  },
  {
   "cell_type": "code",
   "execution_count": null,
   "id": "59f2a261",
   "metadata": {},
   "outputs": [],
   "source": [
    "df.Text[0]\n",
    "# 获取第一行的‘Text’列的值"
   ]
  },
  {
   "cell_type": "code",
   "execution_count": null,
   "id": "6e5621a3",
   "metadata": {},
   "outputs": [],
   "source": [
    "df['From User'][:10]\n",
    "# 获取前十行的‘From User’值"
   ]
  },
  {
   "cell_type": "markdown",
   "id": "bc5de8f9",
   "metadata": {},
   "source": [
    "#### SCV和pandas解析数据方式比较\n",
    "\n",
    "csv专门用来读取csv数据，并返回一个迭代器（列表）包含每一行数据，只能读取一次数据\n",
    "\n",
    "pandas提供了DataFrame数据结构（二维带标签、类似于表格）\n",
    "pandas的read_csv()方法则将整个csv文件自动转换成DataFrame，并提供多种数据操作方法"
   ]
  },
  {
   "cell_type": "markdown",
   "id": "635f9cba",
   "metadata": {},
   "source": [
    "#### 统计发帖数量所对应的人数的分布"
   ]
  },
  {
   "cell_type": "code",
   "execution_count": null,
   "id": "a3472a72",
   "metadata": {},
   "outputs": [],
   "source": [
    "from collections import defaultdict\n",
    "# defaultdict：特殊字典，可以指定默认值类型，当访问不存在的键时会自动创建对应类型的默认值\n",
    "data_dict = defaultdict(int)\n",
    "for i in df['From User']:\n",
    "    data_dict[i] +=1 "
   ]
  },
  {
   "cell_type": "code",
   "execution_count": null,
   "id": "c434c933",
   "metadata": {},
   "outputs": [],
   "source": [
    "list(data_dict.items())[:5]\n",
    "# data_dict.items()包含所有键值对的字典\n",
    "# list(data_dict.items()) 将字典转换为列表"
   ]
  },
  {
   "cell_type": "markdown",
   "id": "31aa6ca7",
   "metadata": {},
   "source": [
    "##### output\n",
    "[('Anonops_Cop', 1),\n",
    "\n",
    " ('KittyHybrid', 1),\n",
    " \n",
    " ('nerdsherpa', 2),\n",
    " \n",
    " ('hamudistan', 1),\n",
    " \n",
    " ('kl_knox', 1)]"
   ]
  },
  {
   "cell_type": "code",
   "execution_count": null,
   "id": "0c983c9c",
   "metadata": {},
   "outputs": [],
   "source": [
    "import matplotlib.pyplot as plt\n",
    "\n",
    "plt.rcParams['font.sans-serif'] = ['Microsoft YaHei']  # 用来正常显示中文标签\n",
    "plt.rcParams['axes.unicode_minus'] = False  # 用来正常显示负号, 注意['SimHei']对应这句不行.\n",
    "\n",
    "plt.style.use('ggplot') # 设置表格样式"
   ]
  },
  {
   "cell_type": "code",
   "execution_count": null,
   "id": "149272d0",
   "metadata": {},
   "outputs": [],
   "source": [
    "# 使用直方图hist绘制data_lict字典的所有值（发布n篇帖子的用户人数有n个）\n",
    "plt.hist(data_dict.values())\n",
    "# 将y轴和x轴的刻度设置为对数刻度\n",
    "plt.yscale('log')\n",
    "plt.xscale('log')\n",
    "# 设置标签文字和字体大小\n",
    "plt.xlabel(u'发帖数', fontsize = 20)\n",
    "plt.ylabel(u'人数', fontsize = 20)\n",
    "plt.show()"
   ]
  },
  {
   "attachments": {
    "image.png": {
     "image/png": "[encoded data removed]"
    }
   },
   "cell_type": "markdown",
   "id": "a6503ac8",
   "metadata": {},
   "source": [
    "##### ouput\n",
    "![image.png](attachment:image.png)"
   ]
  },
  {
   "cell_type": "code",
   "execution_count": null,
   "id": "fcc6a964",
   "metadata": {},
   "outputs": [],
   "source": [
    "tweet_dict = defaultdict(int)\n",
    "for i in data_dict.values():\n",
    "    tweet_dict[i] += 1 \n",
    " \n",
    "plt.loglog(list(tweet_dict.keys()), list(tweet_dict.values()), 'ro')\n",
    "#linewidth=2)  \n",
    "# 将键值分别转换成列表，‘ro’表示散点图\n",
    "\n",
    "plt.xlabel(u'推特数', fontsize=20)\n",
    "plt.ylabel(u'人数', fontsize=20 )\n",
    "plt.show()"
   ]
  },
  {
   "attachments": {
    "image.png": {
     "image/png": "[encoded data removed]"
    }
   },
   "cell_type": "markdown",
   "id": "33a68f7a",
   "metadata": {},
   "source": [
    "##### output\n",
    "![image.png](attachment:image.png)"
   ]
  },
  {
   "cell_type": "code",
   "execution_count": null,
   "id": "d55c94b1",
   "metadata": {},
   "outputs": [],
   "source": [
    "import numpy as np\n",
    "import statsmodels.api as sm\n",
    "\n",
    "# 该函数用于绘制散点图和拟合曲线（以探索给定数据的幂律关系）\n",
    "# 四个参数：x轴数据、y轴数据、散点图颜色、散点图标记样式\n",
    "def powerPlot(d_value, d_freq, color, marker):\n",
    "    d_freq = [i + 1 for i in d_freq] # 避免出现零频率\n",
    "    d_prob = [float(i)/sum(d_freq) for i in d_freq] # 计算每个频率值的概率\n",
    "    #d_rank = ss.rankdata(d_value).astype(int)\n",
    "    \n",
    "    # 取对数\n",
    "    x = np.log(d_value)\n",
    "    y = np.log(d_prob)\n",
    "    \n",
    "    #线性回归分析：常数项、斜率、R-squared值\n",
    "    # sm.add_constant 函数：在数据前面添加一个常数列，以便在回归模型中考虑截距\n",
    "    xx = sm.add_constant(x, prepend=True)\n",
    "    # 使用OLS类进行线性回归分析：y是因变量，xx是自变量，fit()方法拟合\n",
    "    res = sm.OLS(y,xx).fit()\n",
    "    # 从回归结果对象res中获取拟合结果参数：constant（截距）；beta（斜率）\n",
    "    constant,beta = res.params\n",
    "    # 从回归结果对象res中获取R-squared值（决定系数）（越接近1拟合度越好）\n",
    "    r2 = res.rsquared\n",
    "    \n",
    "    # 绘制散点图和拟合曲线\n",
    "    \n",
    "    # 绘制散点图\n",
    "    # 参数：发帖数（x轴），概率值（y轴），不连接散点，散点颜色，散点标记样式\n",
    "    plt.plot(d_value, d_prob, linestyle = '',color = color, marker = marker)\n",
    "    \n",
    "    # 绘制拟合曲线\n",
    "    # 参数：发帖数（x轴），拟合曲线，曲线颜色\n",
    "    # np.exp() 函数用于计算指数，将对数变换后的值转换为原始线性值\n",
    "    plt.plot(d_value, np.exp(constant+x*beta),\"red\")\n",
    "    \n",
    "    \n",
    "    plt.xscale('log')\n",
    "    plt.yscale('log')\n",
    "    \n",
    "    # 添加文本标注\n",
    "    plt.text(max(d_value)/2,max(d_prob)/10, # 位置\n",
    "             r'$\\beta$ = ' + str(round(beta,2)) +'\\n' + r'$R^2$ = ' + str(round(r2, 2)), fontsize = 20)"
   ]
  },
  {
   "cell_type": "code",
   "execution_count": null,
   "id": "cf9dbf10",
   "metadata": {},
   "outputs": [],
   "source": [
    "# np.histogram计算给定数据的直方图； 参数15指定bin数量（将数据分成一定的组）\n",
    "# histo是频率数组：每个bin中的数据数量\n",
    "# bin_edges是分bin边界的数据\n",
    "histo, bin_edges = np.histogram(list(data_dict.values()), 15)\n",
    "# 计算bin中心值：每个bin的上下边界相加并除以2\n",
    "bin_center = 0.5*(bin_edges[1:] + bin_edges[:-1])\n",
    "powerPlot(bin_center,histo, 'r', '^')\n",
    "\n",
    "#lg=plt.legend(labels = [u'Tweets', u'Fit'], loc=3, fontsize=20)\n",
    "plt.ylabel(u'概率', fontsize=20)\n",
    "plt.xlabel(u'推特数', fontsize=20) \n",
    "plt.show()"
   ]
  },
  {
   "attachments": {
    "image.png": {
     "image/png": "[encoded data removed]"
    }
   },
   "cell_type": "markdown",
   "id": "ddc78086",
   "metadata": {},
   "source": [
    "##### output\n",
    "![image.png](attachment:image.png)"
   ]
  },
  {
   "cell_type": "code",
   "execution_count": null,
   "id": "be5c038a",
   "metadata": {},
   "outputs": [],
   "source": [
    "import statsmodels.api as sm\n",
    "from collections import defaultdict\n",
    "import numpy as np\n",
    "\n",
    "def powerPlot2(data):\n",
    "    d = sorted(data, reverse = True )\n",
    "    d_table = defaultdict(int)# 创建一个默认值为0的字典用于存储数据频率\n",
    "    for k in d:\n",
    "        d_table[k] += 1\n",
    "    d_value = sorted(d_table)# 对频率字典的键进行排序\n",
    "    \n",
    "    d_value = [i+1 for i in d_value] \n",
    "    d_freq = [d_table[i]+1 for i in d_value] #避免频率为0\n",
    "    d_prob = [float(i)/sum(d_freq) for i in d_freq] # 计算概率\n",
    "    \n",
    "    x = np.log(d_value)\n",
    "    y = np.log(d_prob)\n",
    "    xx = sm.add_constant(x, prepend=True)# 将对数坐标数据加上常数项（截距）\n",
    "    res = sm.OLS(y,xx).fit()# 使用最小二乘法对数据进行拟合\n",
    "    constant,beta = res.params #从拟合结果对象中获取常数项和斜率\n",
    "    r2 = res.rsquared # 获取拟合程度\n",
    "    \n",
    "    plt.plot(d_value, d_prob, 'ro') # 绘制散点图\n",
    "    plt.plot(d_value, np.exp(constant+x*beta),\"red\") # 绘制拟合曲线\n",
    "    plt.xscale('log'); plt.yscale('log') # 设置对数刻度\n",
    "    plt.text(max(d_value)/2,max(d_prob)/5, # 设置文本位置与内容\n",
    "             'Beta = ' + str(round(beta,2)) +'\\n' + 'R squared = ' + str(round(r2, 2)))\n",
    "    \n",
    "    plt.title('Distribution')\n",
    "    plt.ylabel('P(K)')\n",
    "    plt.xlabel('K')\n",
    "    plt.show()\n",
    "    "
   ]
  },
  {
   "cell_type": "code",
   "execution_count": null,
   "id": "530ac4cd",
   "metadata": {},
   "outputs": [],
   "source": [
    "powerPlot2(data_dict.values())"
   ]
  },
  {
   "attachments": {
    "image.png": {
     "image/png": "[encoded data removed]"
    }
   },
   "cell_type": "markdown",
   "id": "3297a8a5",
   "metadata": {},
   "source": [
    "##### output\n",
    "![image.png](attachment:image.png)"
   ]
  },
  {
   "cell_type": "markdown",
   "id": "5f2205f8",
   "metadata": {},
   "source": [
    "### 功率律分布图\n",
    "\n",
    "在图表上通常是对数-对数坐标轴，因为功率律分布在对数坐标下呈现出直线关系。\n",
    "\n",
    "通常有两个参数：指数（alpha）和最小阈值（xmin）。\n",
    "\n",
    "指数表示了分布的形状，如果 alpha 大于 1，则表示长尾分布。\n",
    "\n",
    "最小阈值 xmin 表示数据的截断点，即分布的起始点。"
   ]
  },
  {
   "cell_type": "code",
   "execution_count": null,
   "id": "f910b8cf",
   "metadata": {},
   "outputs": [],
   "source": [
    "import powerlaw #powerlaw 用于拟合功率率分布\n",
    "def plotPowerlaw(data,ax,col,xlab): # 参数：数据、坐标轴、颜色、x轴标签\n",
    "    \n",
    "    # data：输入数据；xmin：指定最小阈值；fit：可以用于绘制拟合曲线的对象\n",
    "    fit = powerlaw.Fit(data,xmin=2)\n",
    "    #fit = powerlaw.Fit(data)\n",
    "    \n",
    "    # 绘制原始数据的功率律分布概率密度函数（PDF）图\n",
    "    fit.plot_pdf(color = col, linewidth = 2)\n",
    "    # 从拟合结果中获取功率律的指数 alpha 和最小阈值 xmin。\n",
    "    a,x = (fit.power_law.alpha,fit.power_law.xmin)\n",
    "    # 绘制拟合的功率曲线\n",
    "    fit.power_law.plot_pdf(color = col, linestyle = 'dotted', ax = ax, \\\n",
    "                            label = r\"$\\alpha = %d \\:\\:, x_{min} = %d$\" % (a,x))\n",
    "    ax.set_xlabel(xlab, fontsize = 20)\n",
    "    ax.set_ylabel('$Probability$', fontsize = 20)\n",
    "    plt.legend(loc = 0, frameon = False)# 添加图例，显示拟合结果的标签。"
   ]
  },
  {
   "cell_type": "code",
   "execution_count": null,
   "id": "4b42da94",
   "metadata": {},
   "outputs": [],
   "source": [
    "from collections import defaultdict\n",
    "data_dict = defaultdict(int)\n",
    "\n",
    "for i in df['From User']:\n",
    "    data_dict[i] += 1"
   ]
  },
  {
   "cell_type": "code",
   "execution_count": null,
   "id": "1f1e0ee3",
   "metadata": {},
   "outputs": [],
   "source": [
    "# \n",
    "import matplotlib.cm as cm\n",
    "cmap = cm.get_cmap('rainbow_r',6)\n",
    "\n",
    "fig = plt.figure(figsize=(6, 4),facecolor='white')\n",
    "ax = fig.add_subplot(1, 1, 1)\n",
    "plotPowerlaw(list(data_dict.values()), ax,cmap(1), \n",
    "             '$Tweets$')"
   ]
  },
  {
   "attachments": {
    "image.png": {
     "image/png": "[encoded data removed]"
    }
   },
   "cell_type": "markdown",
   "id": "d4afbc25",
   "metadata": {},
   "source": [
    "##### output\n",
    "/opt/anaconda3/lib/python3.7/site-packages/powerlaw.py:700: RuntimeWarning: invalid value encountered in true_divide\n",
    "  (Theoretical_CDF * (1 - Theoretical_CDF))\n",
    "/opt/anaconda3/lib/python3.7/site-packages/powerlaw.py:700: RuntimeWarning: invalid value encountered in true_divide\n",
    "  (Theoretical_CDF * (1 - Theoretical_CDF))\n",
    "  \n",
    "  ![image.png](attachment:image.png)"
   ]
  },
  {
   "cell_type": "markdown",
   "id": "95a8dbd3",
   "metadata": {},
   "source": [
    "### 清洗tweets文本"
   ]
  },
  {
   "cell_type": "code",
   "execution_count": null,
   "id": "702c45b1",
   "metadata": {},
   "outputs": [],
   "source": [
    "tweet = '''RT @AnonKitsu: ALERT!!!!!!!!!!COPS ARE KETTLING PROTESTERS IN PARK W HELICOPTERS AND PADDYWAGONS!!!! \n",
    "            #OCCUPYWALLSTREET #OWS #OCCUPYNY PLEASE @chengjun @mili http://computational-communication.com \n",
    "            http://ccc.nju.edu.cn RT !!HELP!!!!'''"
   ]
  },
  {
   "cell_type": "code",
   "execution_count": null,
   "id": "e2f20c4c",
   "metadata": {},
   "outputs": [],
   "source": [
    "#!pip install twitter-text\n",
    "import re\n",
    "import twitter_text \n",
    "# https://github.com/dryan/twitter-text-py/issues/21\n",
    "#Macintosh HD ▸ 用户 ▸ datalab ▸ 应用程序 ▸ anaconda ▸ lib ▸ python3.5 ▸ site-packages"
   ]
  },
  {
   "cell_type": "code",
   "execution_count": null,
   "id": "e9dfb0ec",
   "metadata": {},
   "outputs": [],
   "source": [
    "import re\n",
    "\n",
    "tweet = '''RT @AnonKitsu: @who ALERT!!!!!!!!!!COPS ARE KETTLING PROTESTERS IN PARK W HELICOPTERS AND PADDYWAGONS!!!! \n",
    "            #OCCUPYWALLSTREET #OWS #OCCUPYNY PLEASE @chengjun @mili http://computational-communication.com \n",
    "            http://ccc.nju.edu.cn RT !!HELP!!!!'''\n",
    "\n",
    "rt_patterns = re.compile(r\"(RT|via)((?:\\b\\W*@\\w+)+)\", re.IGNORECASE)\n",
    "rt_user_name = rt_patterns.findall(tweet)[0][1]#.strip(' @').split(':')[0]\n",
    "rt_user_name "
   ]
  },
  {
   "cell_type": "markdown",
   "id": "bb4362a8",
   "metadata": {},
   "source": [
    "##### output\n",
    "' @AnonKitsu: @who'"
   ]
  },
  {
   "cell_type": "code",
   "execution_count": null,
   "id": "69ced8ab",
   "metadata": {},
   "outputs": [],
   "source": [
    "import re\n",
    "\n",
    "tweet = '''RT @AnonKitsu: @who ALERT!!!!!!!!!!COPS ARE KETTLING PROTESTERS IN PARK W HELICOPTERS AND PADDYWAGONS!!!! \n",
    "            #OCCUPYWALLSTREET #OWS #OCCUPYNY PLEASE @chengjun @mili http://computational-communication.com \n",
    "            http://ccc.nju.edu.cn RT !!HELP!!!!'''\n",
    "\n",
    "rt_patterns = re.compile(r\"(RT|via)((?:\\b\\W*@\\w+)+)\", \\\n",
    "                         re.IGNORECASE)\n",
    "rt_user_name = rt_patterns.findall(tweet)[0][1].strip(' @').split(':')[0]\n",
    "rt_user_name"
   ]
  },
  {
   "cell_type": "markdown",
   "id": "b4f473ab",
   "metadata": {},
   "source": [
    "##### output\n",
    "'AnonKitsu'"
   ]
  },
  {
   "cell_type": "code",
   "execution_count": null,
   "id": "569df3eb",
   "metadata": {},
   "outputs": [],
   "source": [
    "import re\n",
    "\n",
    "tweet = '''@chengjun:@who ALERT!!!!!!!!!!COPS ARE KETTLING PROTESTERS IN PARK W HELICOPTERS AND PADDYWAGONS!!!! \n",
    "            #OCCUPYWALLSTREET #OWS #OCCUPYNY PLEASE @chengjun @mili http://computational-communication.com \n",
    "            http://ccc.nju.edu.cn RT !!HELP!!!!'''\n",
    "\n",
    "rt_patterns = re.compile(r\"(RT|via)((?:\\b\\W*@\\w+)+)\", re.IGNORECASE)\n",
    "rt_user_name = rt_patterns.findall(tweet)\n",
    "print(rt_user_name)\n",
    "\n",
    "if rt_user_name:\n",
    "    print('it exits.')\n",
    "else:\n",
    "    print('None')"
   ]
  },
  {
   "cell_type": "markdown",
   "id": "5716382d",
   "metadata": {},
   "source": [
    "##### output\n",
    "[]\n",
    "None"
   ]
  },
  {
   "cell_type": "code",
   "execution_count": null,
   "id": "cf386902",
   "metadata": {},
   "outputs": [],
   "source": [
    "import re\n",
    "\n",
    "def extract_rt_user(tweet):\n",
    "    rt_patterns = re.compile(r\"(RT|via)((?:\\b\\W*@\\w+)+)\", re.IGNORECASE)\n",
    "    rt_user_name = rt_patterns.findall(tweet)\n",
    "    if rt_user_name:\n",
    "        rt_user_name = rt_user_name[0][1].strip(' @').split(':')[0]\n",
    "    else:\n",
    "        rt_user_name = None\n",
    "    return rt_user_name"
   ]
  },
  {
   "cell_type": "code",
   "execution_count": null,
   "id": "8d54d15b",
   "metadata": {},
   "outputs": [],
   "source": [
    "tweet = '''RT @chengjun: ALERT!!!!!!!!!!COPS ARE KETTLING PROTESTERS IN PARK W HELICOPTERS AND PADDYWAGONS!!!! \n",
    "            #OCCUPYWALLSTREET #OWS #OCCUPYNY PLEASE @chengjun @mili http://computational-communication.com \n",
    "            http://ccc.nju.edu.cn RT !!HELP!!!!'''\n",
    "\n",
    "extract_rt_user(tweet)    "
   ]
  },
  {
   "cell_type": "markdown",
   "id": "28af374b",
   "metadata": {},
   "source": [
    "##### output\n",
    "'chengjun'"
   ]
  },
  {
   "cell_type": "code",
   "execution_count": null,
   "id": "4b821df4",
   "metadata": {},
   "outputs": [],
   "source": [
    "tweet = '''@chengjun: ALERT!!!!!!!!!!COPS ARE KETTLING PROTESTERS IN PARK W HELICOPTERS AND PADDYWAGONS!!!! \n",
    "            #OCCUPYWALLSTREET #OWS #OCCUPYNY PLEASE @chengjun @mili http://computational-communication.com \n",
    "            http://ccc.nju.edu.cn RT !!HELP!!!!'''\n",
    "\n",
    "print(extract_rt_user(tweet) )"
   ]
  },
  {
   "cell_type": "markdown",
   "id": "3dad33ba",
   "metadata": {},
   "source": [
    "##### output\n",
    "None"
   ]
  },
  {
   "cell_type": "code",
   "execution_count": null,
   "id": "16015566",
   "metadata": {},
   "outputs": [],
   "source": [
    "import csv\n",
    "\n",
    "with open(\"./data/ows_tweets_sample.txt\", 'r') as f:\n",
    "    chunk = f.readlines()\n",
    "    \n",
    "rt_network = []\n",
    "lines = csv.reader(chunk[1:], delimiter=',', quotechar='\"')\n",
    "tweet_user_data = [(i[1], i[8]) for i in lines]\n",
    "tweet_user_data[:3]"
   ]
  },
  {
   "cell_type": "markdown",
   "id": "8f038d1e",
   "metadata": {},
   "source": [
    "##### output\n",
    "\n",
    "[\n",
    "\n",
    "('RT @AnonKitsu: ALERT!!!!!!!!!!COPS ARE KETTLING PROTESTERS IN PARK W HELICOPTERS AND PADDYWAGONS!!!! #OCCUPYWALLSTREET #OWS #OCCUPYNY PLEASE RT !!HELP!!!!',\n",
    "  'Anonops_Cop'),\n",
    "  \n",
    " ('@jamiekilstein @allisonkilkenny Interesting interview (never aired, wonder why??) by Fox with #ows protester http://t.co/Fte55Kh7',\n",
    "  'KittyHybrid'),\n",
    "  \n",
    " (\"@Seductivpancake Right! Those guys have a victory condition: regime change. #ows doesn't seem to have a goal I can figure out.\",\n",
    "  'nerdsherpa')]"
   ]
  },
  {
   "cell_type": "code",
   "execution_count": null,
   "id": "338ec602",
   "metadata": {},
   "outputs": [],
   "source": [
    "from collections import defaultdict\n",
    "\n",
    "rt_network = []\n",
    "rt_dict = defaultdict(int)\n",
    "for k, i  in enumerate(tweet_user_data):\n",
    "    tweet,user = i\n",
    "    rt_user = extract_rt_user(tweet)\n",
    "    if rt_user:\n",
    "        rt_network.append((user, rt_user)) #(rt_user,'  ', user, end = '\\n')\n",
    "        rt_dict[(user, rt_user)] += 1\n",
    "#rt_network[:5]\n",
    "list(rt_dict.items())[:3]"
   ]
  },
  {
   "cell_type": "markdown",
   "id": "c1544040",
   "metadata": {},
   "source": [
    "##### output\n",
    "[(('Anonops_Cop', 'AnonKitsu'), 1),\n",
    "\n",
    " (('hamudistan', 'bembel'), 1),\n",
    " \n",
    " (('vickycrampton', 'TheNewDeal'), 2)]"
   ]
  },
  {
   "cell_type": "markdown",
   "id": "5effa41a",
   "metadata": {},
   "source": [
    "### 获取清洗过的推特文本"
   ]
  },
  {
   "cell_type": "code",
   "execution_count": 2,
   "id": "58d0c147",
   "metadata": {},
   "outputs": [],
   "source": [
    "# 不包含人名、url、各种符号\n",
    "def extract_tweet_text(tweet, at_names, urls):\n",
    "    for i in at_names:\n",
    "        tweet = tweet.replace(i, '')\n",
    "    for j in urls:\n",
    "        tweet = tweet.replace(j, '')\n",
    "    marks = ['RT @', '@', '&quot;', '#', '\\n', '\\t', '  ']\n",
    "    for k in marks:\n",
    "        tweet = tweet.replace(k, '')\n",
    "    return tweet"
   ]
  },
  {
   "cell_type": "code",
   "execution_count": null,
   "id": "a97b1275",
   "metadata": {},
   "outputs": [],
   "source": [
    "!pip install twitter-text"
   ]
  },
  {
   "cell_type": "code",
   "execution_count": null,
   "id": "cf83a49e",
   "metadata": {},
   "outputs": [],
   "source": [
    "import twitter_text\n",
    "\n",
    "tweet = '''RT @AnonKitsu: ALERT!!!!!!!!!!COPS ARE KETTLING PROTESTERS IN PARK W HELICOPTERS AND PADDYWAGONS!!!! \n",
    "            #OCCUPYWALLSTREET #OWS #OCCUPYNY PLEASE @chengjun @mili https://computational-communication.com \n",
    "            http://ccc.nju.edu.cn RT !!HELP!!!!'''\n",
    "\n",
    "ex = twitter_text.Extractor(tweet)\n",
    "at_names = ex.extract_mentioned_screen_names()\n",
    "urls = ex.extract_urls()\n",
    "hashtags = ex.extract_hashtags()\n",
    "rt_user = extract_rt_user(tweet)\n",
    "tweet_text = extract_tweet_text(tweet, at_names, urls)\n",
    "\n",
    "print(at_names, urls, hashtags, rt_user,'-------->', tweet_text)"
   ]
  },
  {
   "cell_type": "markdown",
   "id": "33b98c90",
   "metadata": {},
   "source": [
    "##### output\n",
    "['AnonKitsu', 'chengjun', 'mili'] ['https://computational-communication.com', 'http://ccc.nju.edu.cn'] ['OCCUPYWALLSTREET', 'OWS', 'OCCUPYNY'] AnonKitsu --------> : ALERT!!!!!!!!!!COPS ARE KETTLING PROTESTERS IN PARK W HELICOPTERS AND PADDYWAGONS!!!! OCCUPYWALLSTREET OWS OCCUPYNY PLEASE RT !!HELP!!!!"
   ]
  },
  {
   "cell_type": "code",
   "execution_count": null,
   "id": "5c3c90ac",
   "metadata": {},
   "outputs": [],
   "source": [
    "import csv\n",
    "\n",
    "lines = csv.reader(chunk,delimiter=',', quotechar='\"')\n",
    "tweets = [i[1] for i in lines]"
   ]
  },
  {
   "cell_type": "code",
   "execution_count": null,
   "id": "dad71eae",
   "metadata": {},
   "outputs": [],
   "source": [
    "for tweet in tweets[:5]:\n",
    "    ex = twitter_text.Extractor(tweet)\n",
    "    at_names = ex.extract_mentioned_screen_names()\n",
    "    urls = ex.extract_urls()\n",
    "    hashtags = ex.extract_hashtags()\n",
    "    rt_user = extract_rt_user(tweet)\n",
    "    #tweet_text = extract_tweet_text(tweet, at_names, urls)\n",
    "\n",
    "    print(at_names, urls, hashtags, rt_user)\n",
    "    #print(tweet_text)"
   ]
  },
  {
   "cell_type": "markdown",
   "id": "810c48f3",
   "metadata": {},
   "source": [
    "##### output\n",
    "\n",
    "[] [] [] None\n",
    "['AnonKitsu'] [] ['OCCUPYWALLSTREET', 'OWS', 'OCCUPYNY'] AnonKitsu\n",
    "['jamiekilstein', 'allisonkilkenny'] ['http://t.co/Fte55Kh7'] ['ows'] None\n",
    "['Seductivpancake'] [] ['ows'] None\n",
    "['bembel'] ['http://j.mp/rhHavq'] ['OccupyWallStreet', 'OWS'] bembel"
   ]
  },
  {
   "cell_type": "code",
   "execution_count": null,
   "id": "5dd08196",
   "metadata": {},
   "outputs": [],
   "source": []
  }
 ],
 "metadata": {
  "kernelspec": {
   "display_name": "Python 3 (ipykernel)",
   "language": "python",
   "name": "python3"
  },
  "language_info": {
   "codemirror_mode": {
    "name": "ipython",
    "version": 3
   },
   "file_extension": ".py",
   "mimetype": "text/x-python",
   "name": "python",
   "nbconvert_exporter": "python",
   "pygments_lexer": "ipython3",
   "version": "3.9.16"
  }
 },
 "nbformat": 4,
 "nbformat_minor": 5
}
