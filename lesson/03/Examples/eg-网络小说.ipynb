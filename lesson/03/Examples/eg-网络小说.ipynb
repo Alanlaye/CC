{
 "cells": [
  {
   "cell_type": "code",
   "execution_count": 23,
   "id": "263c13a5",
   "metadata": {},
   "outputs": [],
   "source": [
    "import requests\n",
    "from requests.packages.urllib3.exceptions import InsecureRequestWarning"
   ]
  },
  {
   "cell_type": "code",
   "execution_count": 28,
   "id": "7f08136f",
   "metadata": {},
   "outputs": [],
   "source": [
    "# 禁用SSL证书验证警告\n",
    "requests.packages.urllib3.disable_warnings(InsecureRequestWarning)\n",
    "\n",
    "from bs4 import BeautifulSoup\n",
    "\n",
    "url = 'https://www.bixiadu.com/bxd-3501/'\n",
    "page = requests.get(url, verify=False) # 忽略SSL证书验证\n",
    "page.encoding = 'utf-8'\n",
    "soup = BeautifulSoup(page.text, 'html.parser')"
   ]
  },
  {
   "cell_type": "code",
   "execution_count": 29,
   "id": "3494525f",
   "metadata": {},
   "outputs": [],
   "source": [
    "url = 'https://www.bixiadu.com/bxd-3501/'\n",
    "urls = {i.a['href'] for i in soup.find_all('dd')}\n",
    "# 使用BeautifulSoup对象'soup'来查找所有的 'dd' 标签\n",
    "# 通过 'i.a' 来获取 'dd' 标签下的 'a' 标签\n",
    "# 使用 ['href'] 从中提取 'href' 属性值\n",
    "urls = sorted(list(urls))\n",
    "urls = [url + i for i in list(urls)] # 补充完整链接"
   ]
  },
  {
   "cell_type": "code",
   "execution_count": 30,
   "id": "0e5ca30c",
   "metadata": {},
   "outputs": [
    {
     "data": {
      "text/plain": [
       "[]"
      ]
     },
     "execution_count": 30,
     "metadata": {},
     "output_type": "execute_result"
    }
   ],
   "source": [
    "urls"
   ]
  },
  {
   "cell_type": "code",
   "execution_count": 31,
   "id": "8a1a9268",
   "metadata": {},
   "outputs": [],
   "source": [
    "# enumerate()函数遍历urls列表 获取索引k和值i\n",
    "for k, i in enumerate(urls):\n",
    "    print(k, i)\n",
    "    # requests.get() 方法向链接i发送get请求 获取页面内容\n",
    "    page = requests.get(i)\n",
    "    page.encoding = 'utf-8' # 设置编码\n",
    "    # 使用BeautifulSoup解析页面内容\n",
    "    soup = BeautifulSoup(page.text, 'html.parser') \n",
    "    # 从页面中选择class为.bookname的元素，再从中选取h1的标签\n",
    "    title = soup.select(\".bookname\")[0]('h1')[0].text\n",
    "    body = soup.select('#content')[0].text\n",
    "    body = body.replace('\\u3000\\u3000\\xa0\\xa0\\xa0\\xa0', '\\n')\n",
    "    story = title + '\\n' + body\n",
    "    with open('eg1_output.txt', 'a') as f:\n",
    "        f.write(story)"
   ]
  },
  {
   "cell_type": "markdown",
   "id": "40569a30",
   "metadata": {},
   "source": [
    "获取网页链接 使用request的get方法\n",
    "解析页面内容 使用BeautifulSoup的‘html.parser’\n",
    "选择页面元素 使用BeautifulSoup实例的select方法"
   ]
  },
  {
   "cell_type": "code",
   "execution_count": null,
   "id": "96e54c89",
   "metadata": {},
   "outputs": [],
   "source": []
  }
 ],
 "metadata": {
  "kernelspec": {
   "display_name": "Python 3 (ipykernel)",
   "language": "python",
   "name": "python3"
  },
  "language_info": {
   "codemirror_mode": {
    "name": "ipython",
    "version": 3
   },
   "file_extension": ".py",
   "mimetype": "text/x-python",
   "name": "python",
   "nbconvert_exporter": "python",
   "pygments_lexer": "ipython3",
   "version": "3.9.16"
  }
 },
 "nbformat": 4,
 "nbformat_minor": 5
}
