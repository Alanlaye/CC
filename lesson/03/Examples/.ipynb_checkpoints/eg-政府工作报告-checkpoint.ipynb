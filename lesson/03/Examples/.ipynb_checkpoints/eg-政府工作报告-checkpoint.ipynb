{
 "cells": [
  {
   "cell_type": "code",
   "execution_count": 11,
   "id": "b755f494",
   "metadata": {},
   "outputs": [],
   "source": [
    "import requests\n",
    "from bs4 import BeautifulSoup"
   ]
  },
  {
   "cell_type": "code",
   "execution_count": 12,
   "id": "4d122b30",
   "metadata": {},
   "outputs": [
    {
     "data": {
      "text/plain": [
       "'ISO-8859-1'"
      ]
     },
     "execution_count": 12,
     "metadata": {},
     "output_type": "execute_result"
    }
   ],
   "source": [
    "# 获取每一年的报告链接\n",
    "url = \"http://www.hprc.org.cn/wxzl/wxysl/lczf/\"\n",
    "content = requests.get(url)\n",
    "content.encoding"
   ]
  },
  {
   "cell_type": "markdown",
   "id": "a80afa5c",
   "metadata": {},
   "source": [
    "html.parser"
   ]
  },
  {
   "cell_type": "code",
   "execution_count": 13,
   "id": "346b7e75",
   "metadata": {},
   "outputs": [],
   "source": [
    "# 再次重新设置文本编码\n",
    "content.encoding = 'utf-8'\n",
    "content = content.text # 将content从Response对象转换为文本对象以供解析"
   ]
  },
  {
   "cell_type": "code",
   "execution_count": 14,
   "id": "f808317c",
   "metadata": {},
   "outputs": [
    {
     "name": "stdout",
     "output_type": "stream",
     "text": [
      "<a href=\"./shisijbg/202303/t20230315_5607611.html\" target=\"_blank\" title=\"2023年政府工作报告\">2023年政府工作报告</a>\n",
      "<a href=\"./dssjqgrmdbdh_1/202203/t20220313_5398415.html\" target=\"_blank\" title=\"2022年政府工作报告\">2022年政府工作报告</a>\n",
      "<a href=\"./dssjqgrmdbdh_1/202103/t20210316_5318622.html\" target=\"_blank\" title=\"2021年政府工作报告\">2021年政府工作报告</a>\n",
      "<a href=\"./dssjqgrmdbdh_1/202006/t20200604_5138985.html\" target=\"_blank\" title=\"2020年政府工作报告\">2020年政府工作报告</a>\n",
      "<a href=\"./dssjqgrmdbdh_1/201903/t20190318_4849567.html\" target=\"_blank\" title=\"2019年政府工作报告\">2019年政府工作报告</a>\n",
      "<a href=\"./dssjqgrmdbdh_1/201803/t20180323_4240852.html\" target=\"_blank\" title=\"2018年政府工作报告\">2018年政府工作报告</a>\n",
      "<a href=\"./d12qgrdzfbg/201703/t20170317_4144138.html\" target=\"_blank\" title=\"2017年政府工作报告\">2017年政府工作报告</a>\n",
      "<a href=\"./d12qgrdzfbg/201603/t20160318_4135203.html\" target=\"_blank\" title=\"2016年政府工作报告\">2016年政府工作报告</a>\n",
      "<a href=\"./d12qgrdzfbg/201503/t20150318_4106347.html\" target=\"_blank\" title=\"2015年政府工作报告\">2015年政府工作报告</a>\n",
      "<a href=\"./d12qgrdzfbg/201403/t20140315_4081551.html\" target=\"_blank\" title=\"2014年政府工作报告\">2014年政府工作报告</a>\n",
      "<a href=\"./d12qgrdzfbg/201402/t20140214_4079186.html\" target=\"_blank\" title=\"2013年政府工作报告\">2013年政府工作报告</a>\n",
      "<a href=\"./dishiyijie/201402/t20140214_4079185.html\" target=\"_blank\" title=\"2012年政府工作报告\">2012年政府工作报告</a>\n",
      "<a href=\"./dishiyijie/201103/t20110315_4001845.html\" target=\"_blank\" title=\"2011年政府工作报告\">2011年政府工作报告</a>\n",
      "<a href=\"./dishiyijie/201003/t20100315_3978124.html\" target=\"_blank\" title=\"2010年政府工作报告\">2010年政府工作报告</a>\n",
      "<a href=\"./dishiyijie/200908/t20090817_3955455.html\" target=\"_blank\" title=\"2009年政府工作报告\">2009年政府工作报告</a>\n",
      "<a href=\"./dishiyijie/200908/t20090817_3955447.html\" target=\"_blank\" title=\"2008年政府工作报告\">2008年政府工作报告</a>\n",
      "<a href=\"./dishiyijie_1/200908/t20090818_3955570.html\" target=\"_blank\" title=\"2007政府工作报告\">2007政府工作报告</a>\n",
      "<a href=\"./dishiyijie_1/200908/t20090818_3955561.html\" target=\"_blank\" title=\"2006年政府工作报告\">2006年政府工作报告</a>\n",
      "<a href=\"./dishiyijie_1/200908/t20090818_3955553.html\" target=\"_blank\" title=\"2005年政府工作报告\">2005年政府工作报告</a>\n",
      "<a href=\"./dishiyijie_1/200908/t20090818_3955552.html\" target=\"_blank\" title=\"2004年政府工作报告\">2004年政府工作报告</a>\n",
      "<a href=\"./dishiyijie_1/200908/t20090818_3955549.html\" target=\"_blank\" title=\"2003年政府工作报告\">2003年政府工作报告</a>\n",
      "<a href=\"./dishiyijie_2/200908/t20090818_3955540.html\" target=\"_blank\" title=\"2002年政府工作报告　　\">2002年政府工作报告　　</a>\n",
      "<a href=\"./dishiyijie_2/200908/t20090818_3955537.html\" target=\"_blank\" title=\"2001年政府工作报告\">2001年政府工作报告</a>\n",
      "<a href=\"./dishiyijie_2/200908/t20090818_3955534.html\" target=\"_blank\" title=\"2000年政府工作报告\">2000年政府工作报告</a>\n",
      "<a href=\"./dishiyijie_2/200908/t20090818_3955533.html\" target=\"_blank\" title=\"1999年政府工作报告\">1999年政府工作报告</a>\n",
      "<a href=\"./dishiyijie_2/200908/t20090818_3955532.html\" target=\"_blank\" title=\"1998年政府工作报告　\">1998年政府工作报告　</a>\n",
      "<a href=\"./dishiyijie_3/200908/t20090818_3955528.html\" target=\"_blank\" title=\"1997年政府工作报告\">1997年政府工作报告</a>\n",
      "<a href=\"./dishiyijie_3/200908/t20090818_3955527.html\" target=\"_blank\" title=\"1996年政府工作报告\">1996年政府工作报告</a>\n",
      "<a href=\"./dishiyijie_3/200908/t20090818_3955526.html\" target=\"_blank\" title=\"1995年政府工作报告\">1995年政府工作报告</a>\n",
      "<a href=\"./dishiyijie_3/200908/t20090818_3955525.html\" target=\"_blank\" title=\"1994年政府工作报告\">1994年政府工作报告</a>\n",
      "<a href=\"./dishiyijie_3/200908/t20090818_3955524.html\" target=\"_blank\" title=\"1993年政府工作报告\">1993年政府工作报告</a>\n",
      "<a href=\"./dishiyijie_4/200908/t20090818_3955521.html\" target=\"_blank\" title=\"1992年政府工作报告　　\">1992年政府工作报告　　</a>\n",
      "<a href=\"./dishiyijie_4/200908/t20090818_3955519.html\" target=\"_blank\" title=\"1991年政府工作报告\">1991年政府工作报告</a>\n",
      "<a href=\"./dishiyijie_4/200908/t20090818_3955518.html\" target=\"_blank\" title=\"1990年政府工作报告\">1990年政府工作报告</a>\n",
      "<a href=\"./dishiyijie_4/200908/t20090818_3955497.html\" target=\"_blank\" title=\"1989年政府工作报告\">1989年政府工作报告</a>\n",
      "<a href=\"./dishiyijie_4/200908/t20090818_3955482.html\" target=\"_blank\" title=\"1988年政府工作报告\">1988年政府工作报告</a>\n",
      "<a href=\"./dishiyijie_5/200908/t20090818_3955480.html\" target=\"_blank\" title=\"1987年政府工作报告\">1987年政府工作报告</a>\n",
      "<a href=\"./dishiyijie_5/200908/t20090818_3955478.html\" target=\"_blank\" title=\"1986年政府工作报告\">1986年政府工作报告</a>\n",
      "<a href=\"./dishiyijie_5/200908/t20090818_3955475.html\" target=\"_blank\" title=\"1985年政府工作报告\">1985年政府工作报告</a>\n",
      "<a href=\"./dishiyijie_5/200908/t20090818_3955474.html\" target=\"_blank\" title=\"1984年政府工作报告\">1984年政府工作报告</a>\n",
      "<a href=\"./dishiyijie_5/200908/t20090818_3955473.html\" target=\"_blank\" title=\"1983年政府工作报告\">1983年政府工作报告</a>\n",
      "<a href=\"./dishiyijie_6/200908/t20090818_3955472.html\" target=\"_blank\" title=\"1982年政府工作报告\">1982年政府工作报告</a>\n",
      "<a href=\"./dishiyijie_6/200908/t20090818_3955471.html\" target=\"_blank\" title=\"1981年政府工作报告\">1981年政府工作报告</a>\n",
      "<a href=\"./dishiyijie_6/200908/t20090818_3955470.html\" target=\"_blank\" title=\"1980年政府工作报告\">1980年政府工作报告</a>\n",
      "<a href=\"./dishiyijie_6/200908/t20090818_3955468.html\" target=\"_blank\" title=\"1979年政府工作报告\">1979年政府工作报告</a>\n",
      "<a href=\"./dishiyijie_6/200908/t20090818_3955467.html\" target=\"_blank\" title=\"1978年政府工作报告\">1978年政府工作报告</a>\n",
      "<a href=\"./dishiyijie_7/200908/t20090818_3955466.html\" target=\"_blank\" title=\"1975年政府工作报告\">1975年政府工作报告</a>\n",
      "<a href=\"./dishiyijie_8/200908/t20090818_3955465.html\" target=\"_blank\" title=\"1964年政府工作报告（摘要）\">1964年政府工作报告（摘要）</a>\n",
      "<a href=\"./dishiyijie_9/200908/t20090818_3955463.html\" target=\"_blank\" title=\"1959年政府工作报告\">1959年政府工作报告</a>\n",
      "<a href=\"./dishiyijie_9/200908/t20090818_3955464.html\" target=\"_blank\" title=\"1960年政府工作报告\">1960年政府工作报告</a>\n",
      "<a href=\"./dishiyijie_10/200908/t20090818_3955462.html\" target=\"_blank\" title=\"1957年政府工作报告\">1957年政府工作报告</a>\n",
      "<a href=\"./dishiyijie_10/200908/t20090818_3955461.html\" target=\"_blank\" title=\"1956年政府工作报告\">1956年政府工作报告</a>\n",
      "<a href=\"./dishiyijie_10/200908/t20090818_3955460.html\" target=\"_blank\" title=\"1955年政府工作报告\">1955年政府工作报告</a>\n",
      "<a href=\"./dishiyijie_10/200908/t20090818_3955459.html\" target=\"_blank\" title=\"1954年政府工作报告\">1954年政府工作报告</a>\n"
     ]
    }
   ],
   "source": [
    "soup = BeautifulSoup(content, 'html.parser')\n",
    "links = soup.select('.bl a')\n",
    "for link in links:\n",
    "    print(link)"
   ]
  },
  {
   "cell_type": "code",
   "execution_count": 15,
   "id": "340882e4",
   "metadata": {},
   "outputs": [
    {
     "data": {
      "text/plain": [
       "54"
      ]
     },
     "execution_count": 15,
     "metadata": {},
     "output_type": "execute_result"
    }
   ],
   "source": [
    "len(links)"
   ]
  },
  {
   "cell_type": "code",
   "execution_count": 16,
   "id": "e2b3b58d",
   "metadata": {},
   "outputs": [
    {
     "data": {
      "text/plain": [
       "'http://www.hprc.org.cn/wxzl/wxysl/lczf/'"
      ]
     },
     "execution_count": 16,
     "metadata": {},
     "output_type": "execute_result"
    }
   ],
   "source": [
    "url"
   ]
  },
  {
   "cell_type": "code",
   "execution_count": 17,
   "id": "a55bdff3",
   "metadata": {},
   "outputs": [
    {
     "data": {
      "text/plain": [
       "'./dishiyijie_10/200908/t20090818_3955459.html'"
      ]
     },
     "execution_count": 17,
     "metadata": {},
     "output_type": "execute_result"
    }
   ],
   "source": [
    "links[-1]['href']"
   ]
  },
  {
   "cell_type": "code",
   "execution_count": 18,
   "id": "c2a135f7",
   "metadata": {},
   "outputs": [
    {
     "data": {
      "text/plain": [
       "'shisijbg/202303/t20230315_5607611.html'"
      ]
     },
     "execution_count": 18,
     "metadata": {},
     "output_type": "execute_result"
    }
   ],
   "source": [
    "links[0]['href'].split('./')[1]"
   ]
  },
  {
   "cell_type": "code",
   "execution_count": 19,
   "id": "96ac679f",
   "metadata": {},
   "outputs": [
    {
     "name": "stdout",
     "output_type": "stream",
     "text": [
      "http://www.hprc.org.cn/wxzl/wxysl/lczf/shisijbg/202303/t20230315_5607611.html\n"
     ]
    }
   ],
   "source": [
    "print(url + links[0]['href'].split('./')[1])"
   ]
  },
  {
   "cell_type": "code",
   "execution_count": 20,
   "id": "e5599978",
   "metadata": {},
   "outputs": [
    {
     "data": {
      "text/plain": [
       "['http://www.hprc.org.cn/wxzl/wxysl/lczf/shisijbg/202303/t20230315_5607611.html',\n",
       " 'http://www.hprc.org.cn/wxzl/wxysl/lczf/dssjqgrmdbdh_1/202203/t20220313_5398415.html',\n",
       " 'http://www.hprc.org.cn/wxzl/wxysl/lczf/dssjqgrmdbdh_1/202103/t20210316_5318622.html',\n",
       " 'http://www.hprc.org.cn/wxzl/wxysl/lczf/dssjqgrmdbdh_1/202006/t20200604_5138985.html',\n",
       " 'http://www.hprc.org.cn/wxzl/wxysl/lczf/dssjqgrmdbdh_1/201903/t20190318_4849567.html']"
      ]
     },
     "execution_count": 20,
     "metadata": {},
     "output_type": "execute_result"
    }
   ],
   "source": [
    "# 使用列表推导进行url拼接\n",
    "hyperlinks = [url + link['href'].split('./')[1] for link in links]\n",
    "hyperlinks[:5]"
   ]
  },
  {
   "cell_type": "code",
   "execution_count": 21,
   "id": "a77d4c7c",
   "metadata": {},
   "outputs": [
    {
     "name": "stdout",
     "output_type": "stream",
     "text": [
      "http://www.hprc.org.cn/wxzl/wxysl/lczf/dishiyijie/200908/t20090817_3955447.html\n"
     ]
    }
   ],
   "source": [
    "print(hyperlinks[15]) # 2007年有分页"
   ]
  },
  {
   "cell_type": "markdown",
   "id": "f30d37f6",
   "metadata": {},
   "source": [
    "## Inspect 下一页"
   ]
  },
  {
   "cell_type": "code",
   "execution_count": 22,
   "id": "8da3537f",
   "metadata": {},
   "outputs": [],
   "source": [
    "url_i = 'http://www.hprc.org.cn/wxzl/wxysl/lczf/dishiyijie_1/200908/t20090818_3955570.html'\n",
    "content = requests.get(url_i)\n",
    "content.encoding = 'utf-8'\n",
    "content = content.text\n",
    "soup = BeautifulSoup(content, 'html.parser')\n",
    "scripts = soup.select('td script')[0] #td元素下的第一个script标签"
   ]
  },
  {
   "cell_type": "code",
   "execution_count": 23,
   "id": "8b1a42ce",
   "metadata": {},
   "outputs": [
    {
     "data": {
      "text/plain": [
       "<script>\n",
       "\tvar currentPage = 0;//所在页从0开始\n",
       "\tvar prevPage = currentPage-1//上一页\n",
       "\tvar 下一页Page = currentPage+1//下一页\n",
       "\tvar countPage = 4//共多少页\n",
       "\t//document.write(\"共\"+countPage+\"页&nbsp;&nbsp;\");\n",
       "\t\n",
       "\t//循环\n",
       "\tvar num = 17;\n",
       "\tfor(var i=0+(currentPage-1-(currentPage-1)%num) ; i<=(num+(currentPage-1-(currentPage-1)%num))&&(i<countPage) ; i++){\n",
       "\t\tif(countPage >1){\n",
       "\t\t\tif(currentPage==i)\n",
       "\t\t\t\tdocument.write(\"【<span style=\\\"color:#FF0000;\\\" class=\\\"hui14_30_h\\\">\"+(i+1)+\"</span>】&nbsp;\");\n",
       "\t\t\telse if(i==0)\n",
       "\t\t\t\tdocument.write(\"<a href=\\\"t20090818_3955570.html\\\" class=\\\"hui14_30_h\\\">【\"+(i+1)+\"】</a>&nbsp;\");\n",
       "\t\t\telse\n",
       "\t\t\t\tdocument.write(\"<a href=\\\"t20090818_3955570\"+\"_\" + i + \".\"+\"html\\\" class=\\\"hui14_30_h\\\">【\"+(i+1)+\"】</a>&nbsp;\");\n",
       "\t\t}\t\n",
       "\t}\n",
       "\t\n",
       "\tdocument.write(\"<br><br>\");\n",
       "\t//设置上一页代码\n",
       "\tif(countPage>1&&currentPage!=0&&currentPage!=1)\n",
       "\t\tdocument.write(\"<a href=\\\"t20090818_3955570\"+\"_\" + prevPage + \".\"+\"html\\\"><span style=\\\"color:#0033FF;font-weight:bold\\\">上一页</span></a>&nbsp;\");\n",
       "\telse if(countPage>1&&currentPage!=0&&currentPage==1)\n",
       "\t\tdocument.write(\"<a href=\\\"t20090818_3955570.html\\\"><span style=\\\"color:#0033FF;font-weight:bold\\\">上一页</span></a>&nbsp;\");\n",
       "\t//else\n",
       "\t//\tdocument.write(\"上一页 &nbsp;\");\n",
       "\t\n",
       "\t\n",
       "\t//设置下一页代码 \n",
       "\tif(countPage>1&&currentPage!=(countPage-1))\n",
       "\t\tdocument.write(\"<a href=\\\"t20090818_3955570\"+\"_\" + 下一页Page + \".\"+\"html\\\" ><span style=\\\"color:#0033FF;font-weight:bold\\\">下一页</span></a> &nbsp;\");\n",
       "\t//else\n",
       "\t//\tdocument.write(\"下一页 &nbsp;\");\n",
       "\t\t\t\t\t \n",
       "\t</script>"
      ]
     },
     "execution_count": 23,
     "metadata": {},
     "output_type": "execute_result"
    }
   ],
   "source": [
    "scripts # 用于生成分页链接的脚本"
   ]
  },
  {
   "cell_type": "code",
   "execution_count": 24,
   "id": "2575d9c8",
   "metadata": {},
   "outputs": [
    {
     "data": {
      "text/plain": [
       "'\\n\\tvar currentPage = 0;//所在页从0开始\\n\\tvar prevPage = currentPage-1//上一页\\n\\tvar 下一页Page = currentPage+1//下一页\\n\\tvar countPage = 4//共多少页\\n\\t//document.write(\"共\"+countPage+\"页&nbsp;&nbsp;\");\\n\\t\\n\\t//循环\\n\\tvar num = 17;\\n\\tfor(var i=0+(currentPage-1-(currentPage-1)%num) ; i<=(num+(currentPage-1-(currentPage-1)%num))&&(i<countPage) ; i++){\\n\\t\\tif(countPage >1){\\n\\t\\t\\tif(currentPage==i)\\n\\t\\t\\t\\tdocument.write(\"【<span style=\\\\\"color:#FF0000;\\\\\" class=\\\\\"hui14_30_h\\\\\">\"+(i+1)+\"</span>】&nbsp;\");\\n\\t\\t\\telse if(i==0)\\n\\t\\t\\t\\tdocument.write(\"<a href=\\\\\"t20090818_3955570.html\\\\\" class=\\\\\"hui14_30_h\\\\\">【\"+(i+1)+\"】</a>&nbsp;\");\\n\\t\\t\\telse\\n\\t\\t\\t\\tdocument.write(\"<a href=\\\\\"t20090818_3955570\"+\"_\" + i + \".\"+\"html\\\\\" class=\\\\\"hui14_30_h\\\\\">【\"+(i+1)+\"】</a>&nbsp;\");\\n\\t\\t}\\t\\n\\t}\\n\\t\\n\\tdocument.write(\"<br><br>\");\\n\\t//设置上一页代码\\n\\tif(countPage>1&&currentPage!=0&&currentPage!=1)\\n\\t\\tdocument.write(\"<a href=\\\\\"t20090818_3955570\"+\"_\" + prevPage + \".\"+\"html\\\\\"><span style=\\\\\"color:#0033FF;font-weight:bold\\\\\">上一页</span></a>&nbsp;\");\\n\\telse if(countPage>1&&currentPage!=0&&currentPage==1)\\n\\t\\tdocument.write(\"<a href=\\\\\"t20090818_3955570.html\\\\\"><span style=\\\\\"color:#0033FF;font-weight:bold\\\\\">上一页</span></a>&nbsp;\");\\n\\t//else\\n\\t//\\tdocument.write(\"上一页 &nbsp;\");\\n\\t\\n\\t\\n\\t//设置下一页代码 \\n\\tif(countPage>1&&currentPage!=(countPage-1))\\n\\t\\tdocument.write(\"<a href=\\\\\"t20090818_3955570\"+\"_\" + 下一页Page + \".\"+\"html\\\\\" ><span style=\\\\\"color:#0033FF;font-weight:bold\\\\\">下一页</span></a> &nbsp;\");\\n\\t//else\\n\\t//\\tdocument.write(\"下一页 &nbsp;\");\\n\\t\\t\\t\\t\\t \\n\\t'"
      ]
     },
     "execution_count": 24,
     "metadata": {},
     "output_type": "execute_result"
    }
   ],
   "source": [
    "scripts.text"
   ]
  },
  {
   "cell_type": "code",
   "execution_count": 26,
   "id": "d13d6993",
   "metadata": {},
   "outputs": [
    {
     "data": {
      "text/plain": [
       "4"
      ]
     },
     "execution_count": 26,
     "metadata": {},
     "output_type": "execute_result"
    }
   ],
   "source": [
    "countPage = int(scripts.text.split('countPage = ')[1].split('//')[0])\n",
    "countPage\n",
    "# scripts.text 获取scripts对象文本内容\n",
    "# .split('countPage = ')将文本内容按照'countPage = '进行拆分 返回拆分后的列表\n",
    "# [1] 表示列表第二个元素 应该包含countPage的值\n",
    "# 对该部分进行拆分 .split('//')[0] 按照'//'进行拆分\n",
    "# int() 将拆分后的列表的第一个元素转换为整数型数据"
   ]
  },
  {
   "cell_type": "code",
   "execution_count": 33,
   "id": "b0f83e2e",
   "metadata": {},
   "outputs": [],
   "source": [
    "import sys\n",
    "\n",
    "def crawler(url_i):\n",
    "    content = requests.get(url_i)\n",
    "    content.encoding = 'utf-8'\n",
    "    content = content.text\n",
    "    soup = BeautifulSoup(content, 'html.parser')\n",
    "    year = soup.find('span',{'class','huang16c'}).text[:4]\n",
    "    # 找到 class 为 'huang16c' 的 <span> 标签，并获取其文本内容的前四个字符\n",
    "    # 这四个字符即为年份信息，将其转换为int整数类型\n",
    "    year = int(year)\n",
    "    report = ''.join(s.text for s in soup('p'))\n",
    "    # 遍历html中的<p>标签，将标签内所有文本内容拼接成一个字符串\n",
    "    \n",
    "    # 找到分页信息\n",
    "    scripts = soup.find_all('script')\n",
    "    countPage = int(''.join(scripts[1]).split('countPage = ')[1].split('//')[0])\n",
    "    # \n",
    "    if countPage == 1:\n",
    "        pass\n",
    "    else:\n",
    "        for i in range(1, countPage):\n",
    "            # 构造每个子页面的url，发送请求获取子页面的内容，将子页面的段落文本追加到report变量中\n",
    "            url_child = url_i.split('.html')[0] + '_' + str(i) + '.html'\n",
    "            content = requests.get(url_child)\n",
    "            content.encoding = 'utf-8'\n",
    "            content = content.text\n",
    "            soup = BeautifulSoup(content,'html.parser')\n",
    "            report_child = ''.join(s.text for s in soup('p'))\n",
    "    return year, report"
   ]
  },
  {
   "cell_type": "code",
   "execution_count": 34,
   "id": "db5baeeb",
   "metadata": {},
   "outputs": [
    {
     "data": {
      "text/plain": [
       "'http://www.hprc.org.cn/wxzl/wxysl/lczf/dishiyijie/200908/t20090817_3955447.html'"
      ]
     },
     "execution_count": 34,
     "metadata": {},
     "output_type": "execute_result"
    }
   ],
   "source": [
    "hyperlinks[15]"
   ]
  },
  {
   "cell_type": "code",
   "execution_count": 35,
   "id": "c1cd9310",
   "metadata": {},
   "outputs": [],
   "source": [
    "year, report = crawler(hyperlinks[15])"
   ]
  },
  {
   "cell_type": "code",
   "execution_count": 36,
   "id": "8898235a",
   "metadata": {},
   "outputs": [
    {
     "data": {
      "text/plain": [
       "2008"
      ]
     },
     "execution_count": 36,
     "metadata": {},
     "output_type": "execute_result"
    }
   ],
   "source": [
    "year"
   ]
  },
  {
   "cell_type": "code",
   "execution_count": 37,
   "id": "f6284595",
   "metadata": {},
   "outputs": [
    {
     "data": {
      "text/plain": [
       "'生产要素市场化程度稳步提高。商品流通现代化步伐加快。土地和矿产资源市场秩序、产品质量和食品药品安全等专项整治取得明显成效，保护知识产权力度加大，严厉打击了制假售假、非法传销、商业欺诈、盗版侵权等违法犯罪活动。\\u3000\\u3000坚持扩大对外开放。我们认真履行加入世界贸易组织各项承诺，积极做好过渡期各项工作。深化涉外经济体制改革，促进贸易投资便利化。放开外贸经营权，大幅度降低关税，取消进口配额、许可证等非关税措施，金融、商业、电信等服务业开放不断扩大。进出口商品结构逐步优化。利用外资质量进一步提高。实施“走出去”战略迈出坚实步伐，对外经济互利合作取得明显成效。\\u3000\\u3000（三） 全面加强社会建设，切实保障和改善民生\\n '"
      ]
     },
     "execution_count": 37,
     "metadata": {},
     "output_type": "execute_result"
    }
   ],
   "source": [
    "report[-300:]"
   ]
  },
  {
   "cell_type": "code",
   "execution_count": 38,
   "id": "7769d0e5",
   "metadata": {},
   "outputs": [
    {
     "name": "stdout",
     "output_type": "stream",
     "text": [
      "1954\r"
     ]
    }
   ],
   "source": [
    "reports = {} # 创建空字典用于存储年份和报告的对应关系\n",
    "for link in hyperlinks:\n",
    "    year, report = crawler(link)\n",
    "    print(year, end='\\r')\n",
    "    reports[year] = report"
   ]
  },
  {
   "cell_type": "code",
   "execution_count": 39,
   "id": "8d9e434e",
   "metadata": {},
   "outputs": [],
   "source": [
    "with open('gov_reports','w',encoding='utf-8') as f:\n",
    "    for r in reports:\n",
    "        # 将报告内容中的换行符和制表符替换为空格，以避免破坏文件格式。最后，+ '\\n' 用于在行末添加换行符\n",
    "        line = str(r) + '\\t' + reports[r].replace('\\n', ' ').replace('\\t', ' ') + '\\n'\n",
    "        f.write(line)"
   ]
  },
  {
   "cell_type": "code",
   "execution_count": 52,
   "id": "119f4cd6",
   "metadata": {},
   "outputs": [
    {
     "name": "stdout",
     "output_type": "stream",
     "text": [
      "Requirement already satisfied: pandas in d:\\anaconda\\envs\\cc2\\lib\\site-packages (2.0.2)\n",
      "Requirement already satisfied: python-dateutil>=2.8.2 in d:\\anaconda\\envs\\cc2\\lib\\site-packages (from pandas) (2.8.2)\n",
      "Requirement already satisfied: pytz>=2020.1 in d:\\anaconda\\envs\\cc2\\lib\\site-packages (from pandas) (2023.3)\n",
      "Requirement already satisfied: tzdata>=2022.1 in d:\\anaconda\\envs\\cc2\\lib\\site-packages (from pandas) (2023.3)\n",
      "Requirement already satisfied: numpy>=1.20.3 in d:\\anaconda\\envs\\cc2\\lib\\site-packages (from pandas) (1.24.3)\n",
      "Requirement already satisfied: six>=1.5 in d:\\anaconda\\envs\\cc2\\lib\\site-packages (from python-dateutil>=2.8.2->pandas) (1.16.0)\n"
     ]
    }
   ],
   "source": [
    "!pip install pandas"
   ]
  },
  {
   "cell_type": "code",
   "execution_count": 54,
   "id": "f843f446",
   "metadata": {},
   "outputs": [],
   "source": [
    "import pandas as pd\n",
    "\n",
    "df = pd.read_table('gov_reports',sep = '\\t',names = ['year', 'report'])\n",
    "# read_table() 函数用于从文本文件中读取数据并将其转换为数据框对象\n",
    "# 参数为：文件路径、分隔符、数据框的列名"
   ]
  },
  {
   "cell_type": "code",
   "execution_count": 55,
   "id": "6a40c5e1",
   "metadata": {},
   "outputs": [],
   "source": [
    "pd.read_table?"
   ]
  },
  {
   "cell_type": "code",
   "execution_count": 57,
   "id": "71758016",
   "metadata": {},
   "outputs": [
    {
     "data": {
      "text/html": [
       "<div>\n",
       "<style scoped>\n",
       "    .dataframe tbody tr th:only-of-type {\n",
       "        vertical-align: middle;\n",
       "    }\n",
       "\n",
       "    .dataframe tbody tr th {\n",
       "        vertical-align: top;\n",
       "    }\n",
       "\n",
       "    .dataframe thead th {\n",
       "        text-align: right;\n",
       "    }\n",
       "</style>\n",
       "<table border=\"1\" class=\"dataframe\">\n",
       "  <thead>\n",
       "    <tr style=\"text-align: right;\">\n",
       "      <th></th>\n",
       "      <th>year</th>\n",
       "      <th>report</th>\n",
       "    </tr>\n",
       "  </thead>\n",
       "  <tbody>\n",
       "    <tr>\n",
       "      <th>0</th>\n",
       "      <td>2023</td>\n",
       "      <td>新华社北京3月14日电政府工作报告 ——2023年3月5日在第十四届全国人民代表大会第一...</td>\n",
       "    </tr>\n",
       "    <tr>\n",
       "      <th>1</th>\n",
       "      <td>2022</td>\n",
       "      <td>各位代表：　　现在，我代表国务院，向大会报告政府工作，请予审议，并请全国政协委员提出意见。　...</td>\n",
       "    </tr>\n",
       "    <tr>\n",
       "      <th>2</th>\n",
       "      <td>2021</td>\n",
       "      <td>各位代表：　　现在，我代表国务院，向大会报告政府工作，请予审议，并请全国政协委员提出意见。　...</td>\n",
       "    </tr>\n",
       "    <tr>\n",
       "      <th>3</th>\n",
       "      <td>2020</td>\n",
       "      <td>新华社北京5月29日电　　政府工作报告　　——2020年5月22日在第十三届全国人民代表...</td>\n",
       "    </tr>\n",
       "    <tr>\n",
       "      <th>4</th>\n",
       "      <td>2019</td>\n",
       "      <td>新华社北京3月16日电　　 政府工作报告　　——2019年3月5日在第十三届全国人民代表...</td>\n",
       "    </tr>\n",
       "  </tbody>\n",
       "</table>\n",
       "</div>"
      ],
      "text/plain": [
       "   year                                             report\n",
       "0  2023  　　新华社北京3月14日电政府工作报告 ——2023年3月5日在第十四届全国人民代表大会第一...\n",
       "1  2022  各位代表：　　现在，我代表国务院，向大会报告政府工作，请予审议，并请全国政协委员提出意见。　...\n",
       "2  2021  各位代表：　　现在，我代表国务院，向大会报告政府工作，请予审议，并请全国政协委员提出意见。　...\n",
       "3  2020  　　新华社北京5月29日电　　政府工作报告　　——2020年5月22日在第十三届全国人民代表...\n",
       "4  2019  　　新华社北京3月16日电　　 政府工作报告　　——2019年3月5日在第十三届全国人民代表..."
      ]
     },
     "execution_count": 57,
     "metadata": {},
     "output_type": "execute_result"
    }
   ],
   "source": [
    "df[:5]"
   ]
  },
  {
   "cell_type": "code",
   "execution_count": null,
   "id": "9c09b124",
   "metadata": {},
   "outputs": [],
   "source": []
  }
 ],
 "metadata": {
  "kernelspec": {
   "display_name": "Python 3 (ipykernel)",
   "language": "python",
   "name": "python3"
  },
  "language_info": {
   "codemirror_mode": {
    "name": "ipython",
    "version": 3
   },
   "file_extension": ".py",
   "mimetype": "text/x-python",
   "name": "python",
   "nbconvert_exporter": "python",
   "pygments_lexer": "ipython3",
   "version": "3.9.16"
  }
 },
 "nbformat": 4,
 "nbformat_minor": 5
}
