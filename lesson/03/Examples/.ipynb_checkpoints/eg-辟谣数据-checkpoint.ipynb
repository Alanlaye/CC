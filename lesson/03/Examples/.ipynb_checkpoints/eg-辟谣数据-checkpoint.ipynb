{
 "cells": [
  {
   "cell_type": "code",
   "execution_count": 29,
   "id": "fd8f255d",
   "metadata": {},
   "outputs": [],
   "source": [
    "import requests\n",
    "from bs4 import BeautifulSoup\n",
    "\n",
    "path = 'https://vp.fact.qq.com/api/article/list?locale=zh-CN&token=U2FsdGVkX1%252BSf5tazIgNXUkfSRI81VMClXBoG5lAMez6vJJWe%252BfsQqejh9QTvts7&page='\n",
    "\n",
    "url = path + '100'\n",
    "content = requests.get(url)\n",
    "d = content.json() # 将content的内容解析为JSON格式"
   ]
  },
  {
   "cell_type": "code",
   "execution_count": 30,
   "id": "bbd50a77",
   "metadata": {},
   "outputs": [
    {
     "name": "stdout",
     "output_type": "stream",
     "text": [
      "dict_keys(['code', 'data', 'msg'])\n",
      "dict_keys([])\n"
     ]
    }
   ],
   "source": [
    "print(d.keys())  # 打印字典d的键\n",
    "\n",
    "if 'data' in d:\n",
    "    print(d['data'].keys())  # 打印字典d中'data'键对应值的键\n"
   ]
  },
  {
   "cell_type": "code",
   "execution_count": 31,
   "id": "370f5e84",
   "metadata": {},
   "outputs": [
    {
     "name": "stdout",
     "output_type": "stream",
     "text": [
      "100\r"
     ]
    }
   ],
   "source": [
    "from time import sleep\n",
    "import random\n",
    "\n",
    "for i in range(1, 100+1):\n",
    "    sleep(random.random())\n",
    "    print(i, end = '\\r')\n",
    "    # 使用 '\\r' 控制字符将光标移到行首，以便在下一次迭代时覆盖掉之前的输出\n",
    "    # 这样会使得输出的数字在同一行上连续更新显示，形成一个计数的效果"
   ]
  },
  {
   "cell_type": "code",
   "execution_count": 32,
   "id": "1d751fb0",
   "metadata": {},
   "outputs": [
    {
     "data": {
      "text/plain": [
       "0.37034834217790014"
      ]
     },
     "execution_count": 32,
     "metadata": {},
     "output_type": "execute_result"
    }
   ],
   "source": [
    "import random\n",
    "\n",
    "random.random() # 生成0到1之间的随机小数"
   ]
  },
  {
   "cell_type": "code",
   "execution_count": 34,
   "id": "c30803e2",
   "metadata": {},
   "outputs": [
    {
     "name": "stdout",
     "output_type": "stream",
     "text": [
      "100\r"
     ]
    }
   ],
   "source": [
    "from time import sleep\n",
    "import random\n",
    "\n",
    "jsons = []\n",
    "for i in range(1, 100+1):\n",
    "    print(i, end= '\\r')\n",
    "    sleep(random.random())\n",
    "    path = 'https://vp.fact.qq.com/api/article/list?locale=zh-CN&token=U2FsdGVkX1%252BSf5tazIgNXUkfSRI81VMClXBoG5lAMez6vJJWe%252BfsQqejh9QTvts7&page='\n",
    "    url = path + str(i)\n",
    "    content = requests.get(url)\n",
    "    d = content.json()\n",
    "    for j in d['data']:\n",
    "        jsons.append(j)"
   ]
  },
  {
   "cell_type": "code",
   "execution_count": 35,
   "id": "34c016c1",
   "metadata": {},
   "outputs": [
    {
     "data": {
      "text/plain": [
       "0"
      ]
     },
     "execution_count": 35,
     "metadata": {},
     "output_type": "execute_result"
    }
   ],
   "source": [
    "len(jsons)"
   ]
  },
  {
   "cell_type": "code",
   "execution_count": null,
   "id": "425194f9",
   "metadata": {},
   "outputs": [],
   "source": [
    "import pandas as pd\n",
    "df = pd.DataFrame(jsons)\n",
    "df.head()"
   ]
  },
  {
   "cell_type": "code",
   "execution_count": null,
   "id": "39cce670",
   "metadata": {},
   "outputs": [],
   "source": []
  }
 ],
 "metadata": {
  "kernelspec": {
   "display_name": "Python 3 (ipykernel)",
   "language": "python",
   "name": "python3"
  },
  "language_info": {
   "codemirror_mode": {
    "name": "ipython",
    "version": 3
   },
   "file_extension": ".py",
   "mimetype": "text/x-python",
   "name": "python",
   "nbconvert_exporter": "python",
   "pygments_lexer": "ipython3",
   "version": "3.9.16"
  }
 },
 "nbformat": 4,
 "nbformat_minor": 5
}
