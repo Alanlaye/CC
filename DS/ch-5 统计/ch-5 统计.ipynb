{
 "cells": [
  {
   "cell_type": "markdown",
   "id": "ac6b2941",
   "metadata": {},
   "source": [
    "### 5.1 描述单个数据集"
   ]
  },
  {
   "cell_type": "markdown",
   "id": "9a4d8f36",
   "metadata": {},
   "source": [
    "#### 直方图"
   ]
  },
  {
   "cell_type": "code",
   "execution_count": 3,
   "id": "07bb092b",
   "metadata": {},
   "outputs": [
    {
     "data": {
      "image/png": "[encoded data removed]",
      "text/plain": [
       "<Figure size 640x480 with 1 Axes>"
      ]
     },
     "metadata": {},
     "output_type": "display_data"
    }
   ],
   "source": [
    "num_friends = [100, 49, 41, 40, 25,\n",
    " # 等等\n",
    " ]\n",
    "\n",
    "from collections import Counter\n",
    "import matplotlib.pyplot as plt\n",
    "\n",
    "friends_count = Counter(num_friends) # key为朋友数量 value为其出现次数\n",
    "xs = range(101) # 前闭后开\n",
    "ys = [friends_count[x] for x in xs]\n",
    "\n",
    "plt.bar(xs,ys)\n",
    "plt.axis([0,101,0,25])\n",
    "plt.title(\"Histogram of Friend Counts\")\n",
    "plt.xlabel(\"# of friends\")\n",
    "plt.ylabel(\"# of people\")\n",
    "plt.show()"
   ]
  },
  {
   "cell_type": "code",
   "execution_count": null,
   "id": "5d257b26",
   "metadata": {},
   "outputs": [],
   "source": [
    "# 统计量\n",
    "\n",
    "# 数据点的数量\n",
    "num_points = len(num_friends)\n",
    "\n",
    "# 最大值和最小值\n",
    "largest_value = max(num_friends)\n",
    "smallest_value = min(num_friends)\n",
    "\n",
    "# 特定值的位置\n",
    "sorted_values = sorted(num_friends)\n",
    "smallest_value = sorted_value[0]\n",
    "second_smallest_value = sorted_value[1]\n",
    "largest_value = sorted_value[-1]"
   ]
  },
  {
   "cell_type": "markdown",
   "id": "00c0a48f",
   "metadata": {},
   "source": [
    "#### 5.1.1 中心倾向"
   ]
  },
  {
   "cell_type": "code",
   "execution_count": null,
   "id": "b5edad68",
   "metadata": {},
   "outputs": [],
   "source": [
    "# 均值\n",
    "def mean(xs:List[float]) -> float:\n",
    "    return sum(xs) / len(xs)\n",
    "\n",
    "# 中位数\n",
    "## 下划线表示private函数，只由中位数函数调用\n",
    "def _median_odd(xs:List[float]) -> float:\n",
    "    \"\"\"奇数\"\"\"\n",
    "    return sorted(xs)[len(xs) // 2]\n",
    "\n",
    "def _median_even(xs:List[float]):\n",
    "    \"\"\"偶数\"\"\"\n",
    "    sorted_xs = sorted(xs)\n",
    "    hi_midpoint = len(xs) // 2\n",
    "    return (sorted_xs[hi_midpoint - 1] + sorted_xs[hi_midpoint]) / 2\n",
    "\n",
    "def median(v:List[float]) -> float:\n",
    "    \"\"\"中位数\"\"\"\n",
    "    return _median_even(v) if len(v) % 2 == 0 else _median_odd(v)\n",
    "\n",
    "# 分位数\n",
    "def quantile(xs:List[float],p:float) -> float:\n",
    "    \"\"\"返回x中第p分位数的值\"\"\"\n",
    "    p_index = int(p * len(xs))\n",
    "    return sorted(xs)[p_index]\n",
    "\n",
    "# 众数\n",
    "def mode(x:List[float]) -> List[float]:\n",
    "    \"\"\"因为众数可能不止一个 所以返回一个列表\"\"\"\n",
    "    counts = Counter(x)\n",
    "    max_count = max(counts.values())\n",
    "    return [x_i for x_i, count in counts.items() if count == max_count]\n"
   ]
  },
  {
   "cell_type": "markdown",
   "id": "eb2d91e4",
   "metadata": {},
   "source": [
    "#### 5.1.2 离散度\n",
    "\n",
    "离散度（dispersion）是数据离散程度的度量。通常，如果它的值接近零，则表示数据离散\n",
    "程度低；如果值很大（无论这意味着什么），则表示数据的离散度很高。"
   ]
  },
  {
   "cell_type": "code",
   "execution_count": null,
   "id": "c36b0239",
   "metadata": {},
   "outputs": [],
   "source": [
    "# 极差\n",
    "def data_range(xs:List[float]) -> float:\n",
    "    return max(xs) - min(xs)\n",
    "\n",
    "# 方差\n",
    "def de_mean(xs:List[float]) -> List[float]:\n",
    "    \"\"\"去均值操作 新向量均值为0\"\"\"\n",
    "    x_bar = mean(xs)\n",
    "    return [x - x_bar for x in xs]\n",
    "\n",
    "def variance(xs:List[float]) -> float:\n",
    "    \"\"\"与均值距离的均方差\"\"\"\n",
    "    assert len(xs) >= 2, \"variance requires at least two elements\"\n",
    "    \n",
    "    n = len(xs)\n",
    "    deviations = de_mean(xs)\n",
    "    return sum_of_squares(deviations) / (n - 1)\n",
    "\n",
    "# 标准差\n",
    "import math\n",
    "def standard_deviation(xs:List[float]) -> float:\n",
    "    return math.sqrt(variance(xs))\n",
    " \n",
    "\n",
    "# 分位数之差\n",
    "def interquartile_range(xs: List[float]) -> float:\n",
    "    \"\"\"返回0.75分位数与0.25分位数的差\"\"\"\n",
    "    return quantile(xs, 0.75) - quantile(xs, 0.25)"
   ]
  },
  {
   "cell_type": "markdown",
   "id": "f3b94b45",
   "metadata": {},
   "source": [
    "### 5.2 相关"
   ]
  },
  {
   "cell_type": "markdown",
   "id": "407e3cb4",
   "metadata": {},
   "source": [
    "#### 5.2.1 协方差\n",
    "\n",
    "两个变量对其均值的共同偏离程度"
   ]
  },
  {
   "cell_type": "code",
   "execution_count": null,
   "id": "57f9f15d",
   "metadata": {},
   "outputs": [],
   "source": [
    "from scratch.linear_algebra import dot\n",
    "\n",
    "def covariance(xs: List[float], ys:List[float]) -> float:\n",
    "    assert len(xs) == len(ys), \"xs and ys must have same number of elemnents\"\n",
    "    \n",
    "    return dot(de_mean(xs),de_mean(ys)) / (len(xs) - 1) # 去均值后的向量点积 除以 向量长度（-1）"
   ]
  },
  {
   "cell_type": "markdown",
   "id": "09b40244",
   "metadata": {},
   "source": [
    "#### 5.2.2 相关系数\n",
    "\n",
    "协方差 除以 两个变量的标准差(的乘积）"
   ]
  },
  {
   "cell_type": "code",
   "execution_count": null,
   "id": "dbb709c8",
   "metadata": {},
   "outputs": [],
   "source": [
    "def correlation(xs:List[float],ys:List[float]) -> float:\n",
    "    \"\"\"计算xs和ys的均值相差多少\"\"\"\n",
    "    stdev_x = standard_deviation(xs)\n",
    "    stdev_y = standard_deviation(ys)\n",
    "    if stdev_x > 0 and stdev_y > 0:\n",
    "        return covariance(xs, ys) / stdev_x / stdev_y\n",
    "    else:\n",
    "        return 0"
   ]
  },
  {
   "cell_type": "markdown",
   "id": "3058be55",
   "metadata": {},
   "source": [
    "#### 5.2.3 忽略异常值"
   ]
  },
  {
   "cell_type": "code",
   "execution_count": null,
   "id": "e556ec89",
   "metadata": {},
   "outputs": [],
   "source": [
    "outlier = num_friends.index(100) # 异常值的索引\n",
    "num_friends_good = [x\n",
    " for i, x in enumerate(num_friends)\n",
    " if i != outlier]\n",
    "daily_minutes_good = [x\n",
    " for i, x in enumerate(daily_minutes)\n",
    " if i != outlier]\n",
    "daily_hours_good = [dm / 60 for dm in daily_minutes_good]"
   ]
  },
  {
   "cell_type": "markdown",
   "id": "e33f22a6",
   "metadata": {},
   "source": [
    "### 5.3 辛普森悖论"
   ]
  },
  {
   "cell_type": "markdown",
   "id": "512f340b",
   "metadata": {},
   "source": [
    "当混杂（confounding）变量被忽略时，相关系数就会产生误导性\n",
    "\n",
    "关键点是，相关系数能有效地衡量两个变量间关系的假设是其他条件相同\n",
    "\n",
    "避免这种窘境的唯一务实方法是充分了解数据（knowing your data），并尽可能检查所有可能的混杂因素。"
   ]
  },
  {
   "cell_type": "markdown",
   "id": "f60949b2",
   "metadata": {},
   "source": [
    "### 5.4 相关与因果\n",
    "\n",
    "- 如果 x 和 y 强相关，则可能意味着 x 引起了 y，或 y 引起了 x，或两者互为因果，或第三个因素同时引起了 x 和 y，或什么都不是。\n",
    "\n",
    "- 进行随机试验是验证因果关系可靠性的一个好办法。如果可以将具有相似统计特征的用户随机分成两组，并为其中一组提供稍微不同的影响因素，那么你会发现，不同的因素会导致不同的结果。"
   ]
  },
  {
   "cell_type": "code",
   "execution_count": null,
   "id": "6fb1e5be",
   "metadata": {},
   "outputs": [],
   "source": []
  }
 ],
 "metadata": {
  "kernelspec": {
   "display_name": "Python 3 (ipykernel)",
   "language": "python",
   "name": "python3"
  },
  "language_info": {
   "codemirror_mode": {
    "name": "ipython",
    "version": 3
   },
   "file_extension": ".py",
   "mimetype": "text/x-python",
   "name": "python",
   "nbconvert_exporter": "python",
   "pygments_lexer": "ipython3",
   "version": "3.9.16"
  }
 },
 "nbformat": 4,
 "nbformat_minor": 5
}
