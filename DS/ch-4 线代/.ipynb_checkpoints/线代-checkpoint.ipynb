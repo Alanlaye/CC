{
 "cells": [
  {
   "cell_type": "markdown",
   "id": "737e9105",
   "metadata": {},
   "source": [
    "### 4.1 向量"
   ]
  },
  {
   "cell_type": "markdown",
   "id": "31d32772",
   "metadata": {},
   "source": [
    "#### 自定义一个列表类型：以浮点数为元素的列表"
   ]
  },
  {
   "cell_type": "code",
   "execution_count": 1,
   "id": "92570670",
   "metadata": {},
   "outputs": [],
   "source": [
    "from typing import List\n",
    "Vector = List[float]\n",
    "\n",
    "height_weight_age = [70, # 英寸\n",
    " 170, # 磅\n",
    " 40 ] # 岁\n",
    "grades = [95, # 考试1\n",
    " 80, # 考试2\n",
    " 75, # 考试3\n",
    " 62 ] # 考试4"
   ]
  },
  {
   "cell_type": "markdown",
   "id": "71c0ecb3",
   "metadata": {},
   "source": [
    "#### 向量相加"
   ]
  },
  {
   "cell_type": "code",
   "execution_count": 3,
   "id": "0826f7ef",
   "metadata": {},
   "outputs": [
    {
     "ename": "AssertionError",
     "evalue": "vectors must be the same length",
     "output_type": "error",
     "traceback": [
      "\u001b[1;31m---------------------------------------------------------------------------\u001b[0m",
      "\u001b[1;31mAssertionError\u001b[0m                            Traceback (most recent call last)",
      "Cell \u001b[1;32mIn[3], line 5\u001b[0m\n\u001b[0;32m      3\u001b[0m     \u001b[38;5;28;01mreturn\u001b[39;00m [v_i \u001b[38;5;241m+\u001b[39m w_i \u001b[38;5;28;01mfor\u001b[39;00m v_i, w_i \u001b[38;5;129;01min\u001b[39;00m \u001b[38;5;28mzip\u001b[39m(v,w)]\n\u001b[0;32m      4\u001b[0m \u001b[38;5;28;01massert\u001b[39;00m add([\u001b[38;5;241m1\u001b[39m,\u001b[38;5;241m2\u001b[39m,\u001b[38;5;241m3\u001b[39m],[\u001b[38;5;241m4\u001b[39m,\u001b[38;5;241m5\u001b[39m,\u001b[38;5;241m6\u001b[39m]) \u001b[38;5;241m==\u001b[39m [\u001b[38;5;241m5\u001b[39m,\u001b[38;5;241m7\u001b[39m,\u001b[38;5;241m9\u001b[39m]\n\u001b[1;32m----> 5\u001b[0m \u001b[38;5;28;01massert\u001b[39;00m \u001b[43madd\u001b[49m\u001b[43m(\u001b[49m\u001b[43m[\u001b[49m\u001b[38;5;241;43m1\u001b[39;49m\u001b[43m,\u001b[49m\u001b[38;5;241;43m2\u001b[39;49m\u001b[43m,\u001b[49m\u001b[38;5;241;43m3\u001b[39;49m\u001b[43m]\u001b[49m\u001b[43m,\u001b[49m\u001b[43m[\u001b[49m\u001b[38;5;241;43m4\u001b[39;49m\u001b[43m,\u001b[49m\u001b[38;5;241;43m5\u001b[39;49m\u001b[43m]\u001b[49m\u001b[43m)\u001b[49m \u001b[38;5;241m==\u001b[39m [\u001b[38;5;241m5\u001b[39m,\u001b[38;5;241m7\u001b[39m,\u001b[38;5;241m9\u001b[39m]\n",
      "Cell \u001b[1;32mIn[3], line 2\u001b[0m, in \u001b[0;36madd\u001b[1;34m(v, w)\u001b[0m\n\u001b[0;32m      1\u001b[0m \u001b[38;5;28;01mdef\u001b[39;00m \u001b[38;5;21madd\u001b[39m(v:Vector, w:Vector) \u001b[38;5;241m-\u001b[39m\u001b[38;5;241m>\u001b[39m Vector:\n\u001b[1;32m----> 2\u001b[0m     \u001b[38;5;28;01massert\u001b[39;00m \u001b[38;5;28mlen\u001b[39m(v) \u001b[38;5;241m==\u001b[39m \u001b[38;5;28mlen\u001b[39m(w),\u001b[38;5;124m\"\u001b[39m\u001b[38;5;124mvectors must be the same length\u001b[39m\u001b[38;5;124m\"\u001b[39m\n\u001b[0;32m      3\u001b[0m     \u001b[38;5;28;01mreturn\u001b[39;00m [v_i \u001b[38;5;241m+\u001b[39m w_i \u001b[38;5;28;01mfor\u001b[39;00m v_i, w_i \u001b[38;5;129;01min\u001b[39;00m \u001b[38;5;28mzip\u001b[39m(v,w)]\n",
      "\u001b[1;31mAssertionError\u001b[0m: vectors must be the same length"
     ]
    }
   ],
   "source": [
    "def add(v:Vector, w:Vector) -> Vector:\n",
    "    assert len(v) == len(w),\"vectors must be the same length\"\n",
    "    return [v_i + w_i for v_i, w_i in zip(v,w)]\n",
    "assert add([1,2,3],[4,5,6]) == [5,7,9]\n",
    "assert add([1,2,3],[4,5]) == [5,7,9] # 哼哼不是不小心，是故意的"
   ]
  },
  {
   "cell_type": "markdown",
   "id": "64768883",
   "metadata": {},
   "source": [
    "#### 向量相减"
   ]
  },
  {
   "cell_type": "code",
   "execution_count": 4,
   "id": "3c0d9015",
   "metadata": {},
   "outputs": [],
   "source": [
    "def subtract(v:Vector, w:Vector) -> Vector:\n",
    "    assert len(v) == len(w),\"vectors must be the same length\"\n",
    "    return [v_i - w_i for v_i, w_i in zip(v,w)]\n",
    "assert subtract([5,7,9],[4,5,6]) == [1,2,3]"
   ]
  },
  {
   "cell_type": "markdown",
   "id": "35d7d58e",
   "metadata": {},
   "source": [
    "#### 多组向量求和"
   ]
  },
  {
   "cell_type": "code",
   "execution_count": 5,
   "id": "2880ead8",
   "metadata": {},
   "outputs": [],
   "source": [
    "def vector_sum(vectors:List[Vector]) -> Vector:\n",
    "    assert vectors,\"no vectors provided!\" #检查向量是否为空\n",
    "    num_elements = len(vectors[0])\n",
    "    assert all(len(v) == num_elements for v in vectors),\"different sizes!\" #检查向量长度是否一致\n",
    "    \n",
    "    return [sum(vector[i] for vector in vectors) for i in range(num_elements)]\n",
    "assert vector_sum([[1, 2], [3, 4], [5, 6], [7, 8]]) == [16, 20]"
   ]
  },
  {
   "cell_type": "markdown",
   "id": "d6cfa485",
   "metadata": {},
   "source": [
    "#### 将向量乘以标量"
   ]
  },
  {
   "cell_type": "code",
   "execution_count": 6,
   "id": "6820fdbe",
   "metadata": {},
   "outputs": [],
   "source": [
    "def scalar_multiply(c:float,v:Vector) -> Vector:\n",
    "    return [c * v_i for v_i in v]\n",
    "assert scalar_multiply(2,[1,2,3]) == [2,4,6]"
   ]
  },
  {
   "cell_type": "markdown",
   "id": "d57c0f77",
   "metadata": {},
   "source": [
    "#### 计算一系列向量的均值"
   ]
  },
  {
   "cell_type": "code",
   "execution_count": 7,
   "id": "f3aebdfd",
   "metadata": {},
   "outputs": [],
   "source": [
    "def vector_mean(vectors:List[Vector]) -> Vector:\n",
    "    n = len(vectors)\n",
    "    return scalar_multiply(1/n,vector_sum(vectors))\n",
    "assert vector_mean([[1, 2], [3, 4], [5, 6]]) == [3, 4]"
   ]
  },
  {
   "cell_type": "markdown",
   "id": "719f548e",
   "metadata": {},
   "source": [
    "#### 点积"
   ]
  },
  {
   "cell_type": "code",
   "execution_count": null,
   "id": "bae1b65c",
   "metadata": {},
   "outputs": [],
   "source": [
    "def dot(v:Vector,w:Vector) -> float:\n",
    "    assert len(v) == len(w),\"vectors must be same length!\"\n",
    "    return sum(v_i * w_i for v_i, w_i in zip(v,w))\n",
    "assert dot([1, 2, 3], [4, 5, 6]) == 32 # 1 * 4 + 2 * 5 + 3 * 6"
   ]
  },
  {
   "cell_type": "markdown",
   "id": "2c088560",
   "metadata": {},
   "source": [
    "#### 点积应用"
   ]
  },
  {
   "cell_type": "code",
   "execution_count": 8,
   "id": "21278a3d",
   "metadata": {},
   "outputs": [],
   "source": [
    "# 向量平方和\n",
    "def sum_of_squares(v:Vector) -> float:\n",
    "    return dot(v,v)\n",
    "\n",
    "# 向量大小\n",
    "import math\n",
    "def magnitude(v:Vector) -> float:\n",
    "    return math.sqrt(sum_of_squares(v))\n",
    "\n",
    "# 向量距离\n",
    "def distance(v:Vector,w:Vector) -> float:\n",
    "    return magnitude(subtract(v,w))"
   ]
  },
  {
   "cell_type": "markdown",
   "id": "935a1df1",
   "metadata": {},
   "source": [
    "### 4.2 矩阵"
   ]
  },
  {
   "cell_type": "markdown",
   "id": "2f891c3a",
   "metadata": {},
   "source": [
    "#### 行与列"
   ]
  },
  {
   "cell_type": "code",
   "execution_count": 15,
   "id": "130e1a09",
   "metadata": {},
   "outputs": [],
   "source": [
    "from typing import Tuple\n",
    "\n",
    "Matrix = List[List[float]] #定义Matrix\n",
    "\n",
    "def shape(A:Matrix) -> Tuple[int,int]:\n",
    "    \"\"\"返回A的行数和列数\"\"\"\n",
    "    num_rows = len(A)\n",
    "    num_cols = len(A[0]) if A else 0\n",
    "    return num_rows, num_cols\n",
    "assert shape([[1,2,3],[4,5,6]]) == (2,3) # 2行3列\n",
    "\n",
    "def get_row(A:Matrix,i:int) -> Vector:\n",
    "    \"\"\"返回A的第i行（向量）\"\"\"\n",
    "    return A[i]\n",
    "\n",
    "def get_column(A:Matrix,j:int) -> Vector:\n",
    "    \"\"\"返回A的第j列（向量）\"\"\"\n",
    "    return [A_i[j] for A_i in A]"
   ]
  },
  {
   "cell_type": "markdown",
   "id": "8ffd1f74",
   "metadata": {},
   "source": [
    "### 创建矩阵"
   ]
  },
  {
   "cell_type": "code",
   "execution_count": 16,
   "id": "ecd2e318",
   "metadata": {},
   "outputs": [],
   "source": [
    "from typing import Callable\n",
    "\n",
    "def make_matrix(num_rows:int, num_cols:int, entry_fn:Callable[[int,int],float]) -> Matrix:\n",
    "    return [[entry_fn(i,j) for j in range(num_cols)] for i in range(num_rows)]\n",
    "\n",
    "# eg:生成5*5单位矩阵\n",
    "def identity_matrix(n:int) -> Matrix:\n",
    "    return make_matrix(n,n, lambda i,j: 1 if i == j else 0)\n",
    "\n",
    "assert identity_matrix(5) == [[1, 0, 0, 0, 0],\n",
    " [0, 1, 0, 0, 0],\n",
    " [0, 0, 1, 0, 0],\n",
    " [0, 0, 0, 1, 0],\n",
    " [0, 0, 0, 0, 1]]"
   ]
  },
  {
   "cell_type": "markdown",
   "id": "3dd7e40f",
   "metadata": {},
   "source": [
    "#### 矩阵很重要的原因\n",
    "1. 数据集\n",
    "2. 线性函数（映射关系）\n",
    "3. 二元关系"
   ]
  },
  {
   "cell_type": "code",
   "execution_count": null,
   "id": "601c653c",
   "metadata": {},
   "outputs": [],
   "source": []
  }
 ],
 "metadata": {
  "kernelspec": {
   "display_name": "Python 3 (ipykernel)",
   "language": "python",
   "name": "python3"
  },
  "language_info": {
   "codemirror_mode": {
    "name": "ipython",
    "version": 3
   },
   "file_extension": ".py",
   "mimetype": "text/x-python",
   "name": "python",
   "nbconvert_exporter": "python",
   "pygments_lexer": "ipython3",
   "version": "3.9.16"
  }
 },
 "nbformat": 4,
 "nbformat_minor": 5
}
