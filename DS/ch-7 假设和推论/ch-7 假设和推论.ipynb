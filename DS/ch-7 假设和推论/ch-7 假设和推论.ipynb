{
 "cells": [
  {
   "cell_type": "markdown",
   "id": "05192f63",
   "metadata": {},
   "source": [
    "在这一章遇到了很多问题索性去b站上速通了nju软院陈振宇老师的数据科学基础，存放在其他笔记里"
   ]
  },
  {
   "cell_type": "markdown",
   "id": "bd20468f",
   "metadata": {},
   "source": [
    "## 7.1 统计假设检验\n",
    "\n",
    "典型步骤：\n",
    "\n",
    "我们先有一个零假设 H0，代表一个默认立场，而替代假设 H1 代表，我们希望与零假设对比的立场。\n",
    "\n",
    "我们用统计学判断 H0 是否错误，从而决定是否可以拒绝它。"
   ]
  },
  {
   "cell_type": "markdown",
   "id": "1e4735ab",
   "metadata": {},
   "source": [
    "## 7.2 实例：掷硬币"
   ]
  },
  {
   "cell_type": "markdown",
   "id": "6a2bce74",
   "metadata": {},
   "source": [
    "先掷硬币n次，记录正面朝上的次数X：X是二项式随机变量Binomial(n,p)\n",
    "\n",
    "使用正态分布进行拟合（正面朝上的次数——出现的概率）"
   ]
  },
  {
   "cell_type": "code",
   "execution_count": 3,
   "id": "1fc0d1af",
   "metadata": {},
   "outputs": [],
   "source": [
    "from typing import Tuple\n",
    "import math\n",
    "\n",
    "def normal_approximation_to_binomial(n:int, p:float) -> Tuple[float, float]:\n",
    "    \"\"\"返回一个Binomial(n,p)分布的mu和sigma\"\"\"\n",
    "    mu = p * n\n",
    "    sigma = math.sqrt(n * p * (1- p))\n",
    "    return mu, sigma"
   ]
  },
  {
   "cell_type": "code",
   "execution_count": null,
   "id": "2ed1bab5",
   "metadata": {},
   "outputs": [],
   "source": []
  }
 ],
 "metadata": {
  "kernelspec": {
   "display_name": "Python 3 (ipykernel)",
   "language": "python",
   "name": "python3"
  },
  "language_info": {
   "codemirror_mode": {
    "name": "ipython",
    "version": 3
   },
   "file_extension": ".py",
   "mimetype": "text/x-python",
   "name": "python",
   "nbconvert_exporter": "python",
   "pygments_lexer": "ipython3",
   "version": "3.9.16"
  }
 },
 "nbformat": 4,
 "nbformat_minor": 5
}
