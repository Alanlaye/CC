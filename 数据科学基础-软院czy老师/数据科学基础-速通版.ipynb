{
 "cells": [
  {
   "cell_type": "markdown",
   "id": "c438e2f9",
   "metadata": {},
   "source": [
    "# 1. 概率的定义"
   ]
  },
  {
   "attachments": {},
   "cell_type": "markdown",
   "id": "19c0e99d",
   "metadata": {},
   "source": [
    "**频率：**\n"
   ]
  },
  {
   "cell_type": "markdown",
   "id": "2bd37c98",
   "metadata": {},
   "source": [
    "**古典概率**"
   ]
  },
  {
   "cell_type": "code",
   "execution_count": null,
   "id": "c23342c3",
   "metadata": {},
   "outputs": [],
   "source": []
  }
 ],
 "metadata": {
  "kernelspec": {
   "display_name": "Python 3 (ipykernel)",
   "language": "python",
   "name": "python3"
  },
  "language_info": {
   "codemirror_mode": {
    "name": "ipython",
    "version": 3
   },
   "file_extension": ".py",
   "mimetype": "text/x-python",
   "name": "python",
   "nbconvert_exporter": "python",
   "pygments_lexer": "ipython3",
   "version": "3.9.16"
  }
 },
 "nbformat": 4,
 "nbformat_minor": 5
}
